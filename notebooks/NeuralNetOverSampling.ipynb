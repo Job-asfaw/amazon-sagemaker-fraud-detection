{
 "cells": [
  {
   "cell_type": "code",
   "execution_count": 1,
   "metadata": {},
   "outputs": [
    {
     "name": "stdout",
     "output_type": "stream",
     "text": [
      "Collecting imbalanced-learn\n",
      "\u001b[?25l  Downloading https://files.pythonhosted.org/packages/e6/62/08c14224a7e242df2cef7b312d2ef821c3931ec9b015ff93bb52ec8a10a3/imbalanced_learn-0.5.0-py3-none-any.whl (173kB)\n",
      "\u001b[K    100% |████████████████████████████████| 174kB 11.2MB/s ta 0:00:01\n",
      "\u001b[?25hRequirement not upgraded as not directly required: numpy>=1.11 in /home/ec2-user/anaconda3/envs/tensorflow_p36/lib/python3.6/site-packages (from imbalanced-learn) (1.16.4)\n",
      "Requirement not upgraded as not directly required: scipy>=0.17 in /home/ec2-user/anaconda3/envs/tensorflow_p36/lib/python3.6/site-packages (from imbalanced-learn) (1.3.0)\n",
      "Requirement not upgraded as not directly required: scikit-learn>=0.21 in /home/ec2-user/anaconda3/envs/tensorflow_p36/lib/python3.6/site-packages (from imbalanced-learn) (0.21.2)\n",
      "Requirement not upgraded as not directly required: joblib>=0.11 in /home/ec2-user/anaconda3/envs/tensorflow_p36/lib/python3.6/site-packages (from imbalanced-learn) (0.13.2)\n",
      "Installing collected packages: imbalanced-learn\n",
      "Successfully installed imbalanced-learn-0.5.0\n",
      "\u001b[33mYou are using pip version 10.0.1, however version 19.3.1 is available.\n",
      "You should consider upgrading via the 'pip install --upgrade pip' command.\u001b[0m\n"
     ]
    }
   ],
   "source": [
    "!pip install -U imbalanced-learn"
   ]
  },
  {
   "cell_type": "code",
   "execution_count": 2,
   "metadata": {},
   "outputs": [
    {
     "name": "stderr",
     "output_type": "stream",
     "text": [
      "Using TensorFlow backend.\n"
     ]
    }
   ],
   "source": [
    "# first neural network with keras tutorial\n",
    "from numpy import loadtxt\n",
    "from keras.models import Sequential\n",
    "from keras.layers import Dense\n",
    "import pandas as pd\n",
    "import numpy as np\n",
    "from imblearn.over_sampling import SMOTE, ADASYN"
   ]
  },
  {
   "cell_type": "code",
   "execution_count": 3,
   "metadata": {},
   "outputs": [],
   "source": [
    "RANDOM_SEED = 314 #used to help randomly select the data points\n",
    "TEST_PCT = 0.3 # 20% of the data"
   ]
  },
  {
   "cell_type": "code",
   "execution_count": 4,
   "metadata": {},
   "outputs": [],
   "source": [
    "dataset = pd.read_csv('creditcard2.csv', delimiter=',')\n",
    "# split into input (X) and output (y) variables"
   ]
  },
  {
   "cell_type": "code",
   "execution_count": 5,
   "metadata": {},
   "outputs": [],
   "source": [
    "dataset = dataset.drop(['Time','Amount'],axis=1)"
   ]
  },
  {
   "cell_type": "code",
   "execution_count": 6,
   "metadata": {},
   "outputs": [],
   "source": [
    "from sklearn.model_selection import train_test_split\n",
    "# 80% for the training set and 20% for the testing set\n",
    "train, test = train_test_split(dataset, test_size=TEST_PCT,random_state=RANDOM_SEED)"
   ]
  },
  {
   "cell_type": "code",
   "execution_count": 7,
   "metadata": {},
   "outputs": [],
   "source": [
    "X = train.iloc[:, 0:28]\n",
    "y = train.iloc[:,28:29]"
   ]
  },
  {
   "cell_type": "code",
   "execution_count": 8,
   "metadata": {},
   "outputs": [],
   "source": [
    " from collections import Counter"
   ]
  },
  {
   "cell_type": "code",
   "execution_count": 9,
   "metadata": {},
   "outputs": [
    {
     "name": "stderr",
     "output_type": "stream",
     "text": [
      "/home/ec2-user/anaconda3/envs/tensorflow_p36/lib/python3.6/site-packages/sklearn/utils/validation.py:724: DataConversionWarning: A column-vector y was passed when a 1d array was expected. Please change the shape of y to (n_samples, ), for example using ravel().\n",
      "  y = column_or_1d(y, warn=True)\n"
     ]
    },
    {
     "name": "stdout",
     "output_type": "stream",
     "text": [
      "[(0, 199036), (1, 199036)]\n"
     ]
    }
   ],
   "source": [
    "X_resampled, y_resampled = SMOTE().fit_resample(X, y)\n",
    "print(sorted(Counter(y_resampled).items()))"
   ]
  },
  {
   "cell_type": "code",
   "execution_count": 10,
   "metadata": {},
   "outputs": [
    {
     "name": "stdout",
     "output_type": "stream",
     "text": [
      "[(0, 199036), (1, 199036)]\n"
     ]
    }
   ],
   "source": [
    "X = X_resampled\n",
    "y = y_resampled\n",
    "print(sorted(Counter(y).items()))"
   ]
  },
  {
   "cell_type": "code",
   "execution_count": 11,
   "metadata": {},
   "outputs": [
    {
     "name": "stderr",
     "output_type": "stream",
     "text": [
      "WARNING: Logging before flag parsing goes to stderr.\n",
      "W1108 19:40:35.174302 140413557581632 deprecation_wrapper.py:119] From /home/ec2-user/anaconda3/envs/tensorflow_p36/lib/python3.6/site-packages/keras/backend/tensorflow_backend.py:74: The name tf.get_default_graph is deprecated. Please use tf.compat.v1.get_default_graph instead.\n",
      "\n",
      "W1108 19:40:35.189141 140413557581632 deprecation_wrapper.py:119] From /home/ec2-user/anaconda3/envs/tensorflow_p36/lib/python3.6/site-packages/keras/backend/tensorflow_backend.py:517: The name tf.placeholder is deprecated. Please use tf.compat.v1.placeholder instead.\n",
      "\n",
      "W1108 19:40:35.191180 140413557581632 deprecation_wrapper.py:119] From /home/ec2-user/anaconda3/envs/tensorflow_p36/lib/python3.6/site-packages/keras/backend/tensorflow_backend.py:4138: The name tf.random_uniform is deprecated. Please use tf.random.uniform instead.\n",
      "\n",
      "W1108 19:40:35.219061 140413557581632 deprecation_wrapper.py:119] From /home/ec2-user/anaconda3/envs/tensorflow_p36/lib/python3.6/site-packages/keras/optimizers.py:790: The name tf.train.Optimizer is deprecated. Please use tf.compat.v1.train.Optimizer instead.\n",
      "\n",
      "W1108 19:40:35.233352 140413557581632 deprecation_wrapper.py:119] From /home/ec2-user/anaconda3/envs/tensorflow_p36/lib/python3.6/site-packages/keras/backend/tensorflow_backend.py:3376: The name tf.log is deprecated. Please use tf.math.log instead.\n",
      "\n",
      "W1108 19:40:35.236747 140413557581632 deprecation.py:323] From /home/ec2-user/anaconda3/envs/tensorflow_p36/lib/python3.6/site-packages/tensorflow/python/ops/nn_impl.py:180: add_dispatch_support.<locals>.wrapper (from tensorflow.python.ops.array_ops) is deprecated and will be removed in a future version.\n",
      "Instructions for updating:\n",
      "Use tf.where in 2.0, which has the same broadcast rule as np.where\n"
     ]
    }
   ],
   "source": [
    "# define the keras model\n",
    "model = Sequential()\n",
    "model.add(Dense(28, input_dim=28, activation='relu'))\n",
    "model.add(Dense(8, activation='relu'))\n",
    "model.add(Dense(1, activation='sigmoid'))\n",
    "# compile the keras model\n",
    "model.compile(loss='binary_crossentropy', optimizer='adam', metrics=['accuracy'])\n",
    "# fit the keras model on the dataset"
   ]
  },
  {
   "cell_type": "code",
   "execution_count": 24,
   "metadata": {},
   "outputs": [
    {
     "name": "stdout",
     "output_type": "stream",
     "text": [
      "Epoch 1/200\n",
      "398072/398072 [==============================] - 2s 4us/step - loss: 9.9827e-05 - acc: 1.0000\n",
      "Epoch 2/200\n",
      "398072/398072 [==============================] - 2s 4us/step - loss: 7.5616e-05 - acc: 1.0000\n",
      "Epoch 3/200\n",
      "398072/398072 [==============================] - 2s 4us/step - loss: 7.1521e-05 - acc: 1.0000\n",
      "Epoch 4/200\n",
      "398072/398072 [==============================] - 2s 4us/step - loss: 7.2626e-05 - acc: 1.0000\n",
      "Epoch 5/200\n",
      "398072/398072 [==============================] - 2s 4us/step - loss: 7.7697e-05 - acc: 1.0000\n",
      "Epoch 6/200\n",
      "398072/398072 [==============================] - 2s 4us/step - loss: 7.8348e-05 - acc: 1.0000\n",
      "Epoch 7/200\n",
      "398072/398072 [==============================] - 2s 4us/step - loss: 7.6517e-05 - acc: 1.0000\n",
      "Epoch 8/200\n",
      "398072/398072 [==============================] - 2s 4us/step - loss: 7.7302e-05 - acc: 1.0000\n",
      "Epoch 9/200\n",
      "398072/398072 [==============================] - 2s 4us/step - loss: 8.0442e-05 - acc: 1.0000\n",
      "Epoch 10/200\n",
      "398072/398072 [==============================] - 2s 4us/step - loss: 8.3704e-05 - acc: 1.0000\n",
      "Epoch 11/200\n",
      "398072/398072 [==============================] - 2s 4us/step - loss: 7.7315e-05 - acc: 1.0000\n",
      "Epoch 12/200\n",
      "398072/398072 [==============================] - 2s 4us/step - loss: 7.8125e-05 - acc: 1.0000\n",
      "Epoch 13/200\n",
      "398072/398072 [==============================] - 2s 4us/step - loss: 7.5363e-05 - acc: 1.0000\n",
      "Epoch 14/200\n",
      "398072/398072 [==============================] - 2s 4us/step - loss: 8.0002e-05 - acc: 1.0000\n",
      "Epoch 15/200\n",
      "398072/398072 [==============================] - 2s 4us/step - loss: 7.1004e-05 - acc: 1.0000\n",
      "Epoch 16/200\n",
      "398072/398072 [==============================] - 2s 4us/step - loss: 1.0413e-04 - acc: 1.0000\n",
      "Epoch 17/200\n",
      "398072/398072 [==============================] - 2s 4us/step - loss: 8.5598e-05 - acc: 1.0000\n",
      "Epoch 18/200\n",
      "398072/398072 [==============================] - 2s 4us/step - loss: 7.7696e-05 - acc: 1.0000\n",
      "Epoch 19/200\n",
      "398072/398072 [==============================] - 2s 4us/step - loss: 9.5769e-05 - acc: 1.0000\n",
      "Epoch 20/200\n",
      "398072/398072 [==============================] - 2s 4us/step - loss: 7.9068e-05 - acc: 1.0000\n",
      "Epoch 21/200\n",
      "398072/398072 [==============================] - 2s 4us/step - loss: 8.3031e-05 - acc: 1.0000\n",
      "Epoch 22/200\n",
      "398072/398072 [==============================] - 2s 4us/step - loss: 6.9431e-05 - acc: 1.0000\n",
      "Epoch 23/200\n",
      "398072/398072 [==============================] - 2s 4us/step - loss: 8.5352e-05 - acc: 1.0000\n",
      "Epoch 24/200\n",
      "398072/398072 [==============================] - 2s 4us/step - loss: 8.4147e-05 - acc: 1.0000\n",
      "Epoch 25/200\n",
      "398072/398072 [==============================] - 2s 4us/step - loss: 7.5920e-05 - acc: 1.0000\n",
      "Epoch 26/200\n",
      "398072/398072 [==============================] - 2s 4us/step - loss: 7.4605e-05 - acc: 1.0000\n",
      "Epoch 27/200\n",
      "398072/398072 [==============================] - 2s 4us/step - loss: 8.5080e-05 - acc: 1.0000\n",
      "Epoch 28/200\n",
      "398072/398072 [==============================] - 2s 4us/step - loss: 1.3119e-04 - acc: 1.0000\n",
      "Epoch 29/200\n",
      "398072/398072 [==============================] - 2s 4us/step - loss: 8.2284e-05 - acc: 1.0000\n",
      "Epoch 30/200\n",
      "398072/398072 [==============================] - 2s 4us/step - loss: 8.2784e-05 - acc: 1.0000\n",
      "Epoch 31/200\n",
      "398072/398072 [==============================] - 2s 4us/step - loss: 9.8738e-05 - acc: 1.0000\n",
      "Epoch 32/200\n",
      "398072/398072 [==============================] - 2s 4us/step - loss: 7.0828e-05 - acc: 1.0000\n",
      "Epoch 33/200\n",
      "398072/398072 [==============================] - 2s 4us/step - loss: 9.0887e-05 - acc: 1.0000\n",
      "Epoch 34/200\n",
      "398072/398072 [==============================] - 2s 4us/step - loss: 1.2558e-04 - acc: 1.0000\n",
      "Epoch 35/200\n",
      "398072/398072 [==============================] - 2s 4us/step - loss: 8.2462e-05 - acc: 1.0000\n",
      "Epoch 36/200\n",
      "398072/398072 [==============================] - 2s 4us/step - loss: 7.5800e-05 - acc: 1.0000\n",
      "Epoch 37/200\n",
      "398072/398072 [==============================] - 2s 4us/step - loss: 6.9544e-05 - acc: 1.0000\n",
      "Epoch 38/200\n",
      "398072/398072 [==============================] - 2s 4us/step - loss: 8.8459e-05 - acc: 1.0000\n",
      "Epoch 39/200\n",
      "398072/398072 [==============================] - 2s 4us/step - loss: 8.2301e-05 - acc: 1.0000\n",
      "Epoch 40/200\n",
      "398072/398072 [==============================] - 2s 4us/step - loss: 8.2319e-05 - acc: 1.0000\n",
      "Epoch 41/200\n",
      "398072/398072 [==============================] - 2s 4us/step - loss: 8.0782e-05 - acc: 1.0000\n",
      "Epoch 42/200\n",
      "398072/398072 [==============================] - 2s 4us/step - loss: 1.0246e-04 - acc: 1.0000\n",
      "Epoch 43/200\n",
      "398072/398072 [==============================] - 2s 4us/step - loss: 8.1808e-05 - acc: 1.0000\n",
      "Epoch 44/200\n",
      "398072/398072 [==============================] - 2s 4us/step - loss: 1.0362e-04 - acc: 1.0000\n",
      "Epoch 45/200\n",
      "398072/398072 [==============================] - 2s 4us/step - loss: 7.1108e-05 - acc: 1.0000\n",
      "Epoch 46/200\n",
      "398072/398072 [==============================] - 2s 4us/step - loss: 7.0264e-05 - acc: 1.0000\n",
      "Epoch 47/200\n",
      "398072/398072 [==============================] - 2s 4us/step - loss: 8.7099e-05 - acc: 1.0000\n",
      "Epoch 48/200\n",
      "398072/398072 [==============================] - 2s 4us/step - loss: 1.3728e-04 - acc: 1.0000\n",
      "Epoch 49/200\n",
      "398072/398072 [==============================] - 2s 4us/step - loss: 9.3188e-05 - acc: 1.0000\n",
      "Epoch 50/200\n",
      "398072/398072 [==============================] - 2s 4us/step - loss: 1.0964e-04 - acc: 1.0000\n",
      "Epoch 51/200\n",
      "398072/398072 [==============================] - 2s 4us/step - loss: 6.8431e-05 - acc: 1.0000\n",
      "Epoch 52/200\n",
      "398072/398072 [==============================] - 2s 4us/step - loss: 7.7525e-05 - acc: 1.0000\n",
      "Epoch 53/200\n",
      "398072/398072 [==============================] - 2s 4us/step - loss: 7.2532e-05 - acc: 1.0000\n",
      "Epoch 54/200\n",
      "398072/398072 [==============================] - 2s 5us/step - loss: 6.2508e-05 - acc: 1.0000\n",
      "Epoch 55/200\n",
      "398072/398072 [==============================] - 3s 7us/step - loss: 8.1487e-05 - acc: 1.0000\n",
      "Epoch 56/200\n",
      "398072/398072 [==============================] - 2s 4us/step - loss: 8.4833e-05 - acc: 1.0000\n",
      "Epoch 57/200\n",
      "398072/398072 [==============================] - 2s 4us/step - loss: 8.5813e-05 - acc: 1.0000\n",
      "Epoch 58/200\n",
      "398072/398072 [==============================] - 2s 4us/step - loss: 6.4217e-05 - acc: 1.0000\n",
      "Epoch 59/200\n",
      "398072/398072 [==============================] - 2s 4us/step - loss: 6.8856e-05 - acc: 1.0000\n",
      "Epoch 60/200\n",
      "398072/398072 [==============================] - 2s 4us/step - loss: 8.4042e-05 - acc: 1.0000\n",
      "Epoch 61/200\n",
      "398072/398072 [==============================] - 2s 4us/step - loss: 7.9250e-05 - acc: 1.0000\n",
      "Epoch 62/200\n",
      "398072/398072 [==============================] - 2s 4us/step - loss: 6.3251e-05 - acc: 1.0000\n",
      "Epoch 63/200\n",
      "398072/398072 [==============================] - 2s 4us/step - loss: 5.6235e-05 - acc: 1.0000\n",
      "Epoch 64/200\n",
      "398072/398072 [==============================] - 2s 4us/step - loss: 7.2856e-05 - acc: 1.0000\n",
      "Epoch 65/200\n",
      "398072/398072 [==============================] - 2s 4us/step - loss: 8.3262e-05 - acc: 1.0000\n",
      "Epoch 66/200\n",
      "398072/398072 [==============================] - 2s 4us/step - loss: 6.8160e-05 - acc: 1.0000\n",
      "Epoch 67/200\n",
      "398072/398072 [==============================] - 2s 4us/step - loss: 6.4878e-05 - acc: 1.0000\n",
      "Epoch 68/200\n",
      "398072/398072 [==============================] - 2s 4us/step - loss: 6.4251e-05 - acc: 1.0000\n",
      "Epoch 69/200\n",
      "398072/398072 [==============================] - 2s 4us/step - loss: 6.9781e-05 - acc: 1.0000\n",
      "Epoch 70/200\n",
      "398072/398072 [==============================] - 2s 4us/step - loss: 6.9722e-05 - acc: 1.0000\n",
      "Epoch 71/200\n",
      "398072/398072 [==============================] - 2s 4us/step - loss: 6.6200e-05 - acc: 1.0000\n",
      "Epoch 72/200\n",
      "398072/398072 [==============================] - 2s 4us/step - loss: 1.4391e-04 - acc: 1.0000\n",
      "Epoch 73/200\n",
      "398072/398072 [==============================] - 2s 4us/step - loss: 1.2678e-04 - acc: 1.0000\n",
      "Epoch 74/200\n",
      "398072/398072 [==============================] - 2s 4us/step - loss: 5.7003e-05 - acc: 1.0000\n",
      "Epoch 75/200\n",
      "398072/398072 [==============================] - 2s 4us/step - loss: 6.3481e-05 - acc: 1.0000\n",
      "Epoch 76/200\n",
      "398072/398072 [==============================] - 2s 4us/step - loss: 6.2915e-05 - acc: 1.0000\n",
      "Epoch 77/200\n"
     ]
    },
    {
     "name": "stdout",
     "output_type": "stream",
     "text": [
      "398072/398072 [==============================] - 2s 4us/step - loss: 7.3551e-05 - acc: 1.0000\n",
      "Epoch 78/200\n",
      "398072/398072 [==============================] - 2s 4us/step - loss: 6.6648e-05 - acc: 1.0000\n",
      "Epoch 79/200\n",
      "398072/398072 [==============================] - 2s 4us/step - loss: 7.0294e-05 - acc: 1.0000\n",
      "Epoch 80/200\n",
      "398072/398072 [==============================] - 2s 4us/step - loss: 6.4170e-05 - acc: 1.0000\n",
      "Epoch 81/200\n",
      "398072/398072 [==============================] - 2s 4us/step - loss: 7.1278e-05 - acc: 1.0000\n",
      "Epoch 82/200\n",
      "398072/398072 [==============================] - 2s 4us/step - loss: 6.1422e-05 - acc: 1.0000\n",
      "Epoch 83/200\n",
      "398072/398072 [==============================] - 2s 4us/step - loss: 7.4768e-05 - acc: 1.0000\n",
      "Epoch 84/200\n",
      "398072/398072 [==============================] - 2s 4us/step - loss: 6.6507e-05 - acc: 1.0000\n",
      "Epoch 85/200\n",
      "398072/398072 [==============================] - 2s 4us/step - loss: 7.9416e-05 - acc: 1.0000\n",
      "Epoch 86/200\n",
      "398072/398072 [==============================] - 2s 4us/step - loss: 9.1245e-05 - acc: 1.0000\n",
      "Epoch 87/200\n",
      "398072/398072 [==============================] - 2s 4us/step - loss: 8.0041e-05 - acc: 1.0000\n",
      "Epoch 88/200\n",
      "398072/398072 [==============================] - 2s 4us/step - loss: 5.8330e-05 - acc: 1.0000\n",
      "Epoch 89/200\n",
      "398072/398072 [==============================] - 2s 4us/step - loss: 6.8179e-05 - acc: 1.0000\n",
      "Epoch 90/200\n",
      "398072/398072 [==============================] - 2s 4us/step - loss: 5.5984e-05 - acc: 1.0000\n",
      "Epoch 91/200\n",
      "398072/398072 [==============================] - 2s 4us/step - loss: 5.8003e-05 - acc: 1.0000\n",
      "Epoch 92/200\n",
      "398072/398072 [==============================] - 2s 4us/step - loss: 8.1038e-05 - acc: 1.0000\n",
      "Epoch 93/200\n",
      "398072/398072 [==============================] - 2s 4us/step - loss: 9.8924e-05 - acc: 1.0000\n",
      "Epoch 94/200\n",
      "398072/398072 [==============================] - 2s 4us/step - loss: 7.6600e-05 - acc: 1.0000\n",
      "Epoch 95/200\n",
      "398072/398072 [==============================] - 2s 4us/step - loss: 1.0416e-04 - acc: 1.0000\n",
      "Epoch 96/200\n",
      "398072/398072 [==============================] - 2s 4us/step - loss: 5.8777e-05 - acc: 1.0000\n",
      "Epoch 97/200\n",
      "398072/398072 [==============================] - 2s 4us/step - loss: 6.1846e-05 - acc: 1.0000\n",
      "Epoch 98/200\n",
      "398072/398072 [==============================] - 2s 4us/step - loss: 6.3889e-05 - acc: 1.0000\n",
      "Epoch 99/200\n",
      "398072/398072 [==============================] - 2s 4us/step - loss: 7.7255e-05 - acc: 1.0000\n",
      "Epoch 100/200\n",
      "398072/398072 [==============================] - 2s 4us/step - loss: 7.3067e-05 - acc: 1.0000\n",
      "Epoch 101/200\n",
      "398072/398072 [==============================] - 2s 4us/step - loss: 6.7249e-05 - acc: 1.0000\n",
      "Epoch 102/200\n",
      "398072/398072 [==============================] - 2s 4us/step - loss: 7.0282e-05 - acc: 1.0000\n",
      "Epoch 103/200\n",
      "398072/398072 [==============================] - 2s 4us/step - loss: 7.2684e-05 - acc: 1.0000\n",
      "Epoch 104/200\n",
      "398072/398072 [==============================] - 2s 4us/step - loss: 7.4157e-05 - acc: 1.0000\n",
      "Epoch 105/200\n",
      "398072/398072 [==============================] - 2s 4us/step - loss: 6.7807e-05 - acc: 1.0000\n",
      "Epoch 106/200\n",
      "398072/398072 [==============================] - 2s 4us/step - loss: 5.7205e-05 - acc: 1.0000\n",
      "Epoch 107/200\n",
      "398072/398072 [==============================] - 2s 4us/step - loss: 1.0111e-04 - acc: 1.0000\n",
      "Epoch 108/200\n",
      "398072/398072 [==============================] - 2s 4us/step - loss: 8.2911e-05 - acc: 1.0000\n",
      "Epoch 109/200\n",
      "398072/398072 [==============================] - 2s 4us/step - loss: 7.0533e-05 - acc: 1.0000\n",
      "Epoch 110/200\n",
      "398072/398072 [==============================] - 2s 4us/step - loss: 1.1446e-04 - acc: 1.0000\n",
      "Epoch 111/200\n",
      "398072/398072 [==============================] - 2s 4us/step - loss: 2.1203e-04 - acc: 1.0000\n",
      "Epoch 112/200\n",
      "398072/398072 [==============================] - 2s 4us/step - loss: 1.0174e-04 - acc: 1.0000\n",
      "Epoch 113/200\n",
      "398072/398072 [==============================] - 2s 4us/step - loss: 1.1442e-04 - acc: 1.0000\n",
      "Epoch 114/200\n",
      "398072/398072 [==============================] - 2s 4us/step - loss: 6.6683e-05 - acc: 1.0000\n",
      "Epoch 115/200\n",
      "398072/398072 [==============================] - 2s 4us/step - loss: 6.4505e-05 - acc: 1.0000\n",
      "Epoch 116/200\n",
      "398072/398072 [==============================] - 2s 4us/step - loss: 6.9052e-05 - acc: 1.0000\n",
      "Epoch 117/200\n",
      "398072/398072 [==============================] - 2s 4us/step - loss: 5.5350e-05 - acc: 1.0000\n",
      "Epoch 118/200\n",
      "398072/398072 [==============================] - 2s 4us/step - loss: 8.5255e-05 - acc: 1.0000\n",
      "Epoch 119/200\n",
      "398072/398072 [==============================] - 2s 4us/step - loss: 6.2551e-05 - acc: 1.0000\n",
      "Epoch 120/200\n",
      "398072/398072 [==============================] - 2s 4us/step - loss: 5.9938e-05 - acc: 1.0000\n",
      "Epoch 121/200\n",
      "398072/398072 [==============================] - 2s 4us/step - loss: 5.7551e-05 - acc: 1.0000\n",
      "Epoch 122/200\n",
      "398072/398072 [==============================] - 2s 4us/step - loss: 8.2295e-05 - acc: 1.0000\n",
      "Epoch 123/200\n",
      "398072/398072 [==============================] - 2s 4us/step - loss: 6.6898e-05 - acc: 1.0000\n",
      "Epoch 124/200\n",
      "398072/398072 [==============================] - 2s 4us/step - loss: 6.5068e-05 - acc: 1.0000\n",
      "Epoch 125/200\n",
      "398072/398072 [==============================] - 2s 4us/step - loss: 1.5268e-04 - acc: 1.0000\n",
      "Epoch 126/200\n",
      "398072/398072 [==============================] - 2s 4us/step - loss: 1.4040e-04 - acc: 1.0000\n",
      "Epoch 127/200\n",
      "398072/398072 [==============================] - 2s 4us/step - loss: 7.0546e-05 - acc: 1.0000\n",
      "Epoch 128/200\n",
      "398072/398072 [==============================] - 2s 4us/step - loss: 7.3001e-05 - acc: 1.0000\n",
      "Epoch 129/200\n",
      "398072/398072 [==============================] - 2s 4us/step - loss: 6.9320e-05 - acc: 1.0000\n",
      "Epoch 130/200\n",
      "398072/398072 [==============================] - 2s 4us/step - loss: 6.7037e-05 - acc: 1.0000\n",
      "Epoch 131/200\n",
      "398072/398072 [==============================] - 2s 4us/step - loss: 6.5125e-05 - acc: 1.0000\n",
      "Epoch 132/200\n",
      "398072/398072 [==============================] - 2s 4us/step - loss: 6.5840e-05 - acc: 1.0000\n",
      "Epoch 133/200\n",
      "398072/398072 [==============================] - 2s 4us/step - loss: 5.4753e-05 - acc: 1.0000\n",
      "Epoch 134/200\n",
      "398072/398072 [==============================] - 2s 4us/step - loss: 7.6204e-05 - acc: 1.0000\n",
      "Epoch 135/200\n",
      "398072/398072 [==============================] - 2s 4us/step - loss: 9.9525e-05 - acc: 1.0000\n",
      "Epoch 136/200\n",
      "398072/398072 [==============================] - 2s 4us/step - loss: 1.4308e-04 - acc: 1.0000\n",
      "Epoch 137/200\n",
      "398072/398072 [==============================] - 2s 4us/step - loss: 1.2076e-04 - acc: 1.0000\n",
      "Epoch 138/200\n",
      "398072/398072 [==============================] - 2s 4us/step - loss: 7.6096e-05 - acc: 1.0000\n",
      "Epoch 139/200\n",
      "398072/398072 [==============================] - 2s 4us/step - loss: 7.2333e-05 - acc: 1.0000\n",
      "Epoch 140/200\n",
      "398072/398072 [==============================] - 2s 4us/step - loss: 6.1014e-05 - acc: 1.0000\n",
      "Epoch 141/200\n",
      "398072/398072 [==============================] - 2s 4us/step - loss: 8.3051e-05 - acc: 1.0000\n",
      "Epoch 142/200\n",
      "398072/398072 [==============================] - 2s 4us/step - loss: 5.8857e-05 - acc: 1.0000\n",
      "Epoch 143/200\n",
      "398072/398072 [==============================] - 2s 4us/step - loss: 5.2419e-05 - acc: 1.0000\n",
      "Epoch 144/200\n",
      "398072/398072 [==============================] - 2s 4us/step - loss: 6.3421e-05 - acc: 1.0000\n",
      "Epoch 145/200\n",
      "398072/398072 [==============================] - 2s 4us/step - loss: 6.0819e-05 - acc: 1.0000\n",
      "Epoch 146/200\n",
      "398072/398072 [==============================] - 2s 4us/step - loss: 7.2615e-05 - acc: 1.0000\n",
      "Epoch 147/200\n",
      "398072/398072 [==============================] - 2s 4us/step - loss: 6.7422e-05 - acc: 1.0000\n",
      "Epoch 148/200\n",
      "398072/398072 [==============================] - 2s 4us/step - loss: 6.6515e-05 - acc: 1.0000\n",
      "Epoch 149/200\n",
      "398072/398072 [==============================] - 2s 4us/step - loss: 7.3637e-05 - acc: 1.0000\n",
      "Epoch 150/200\n",
      "398072/398072 [==============================] - 2s 4us/step - loss: 6.7922e-05 - acc: 1.0000\n",
      "Epoch 151/200\n",
      "398072/398072 [==============================] - 2s 4us/step - loss: 6.0411e-05 - acc: 1.0000\n",
      "Epoch 152/200\n",
      "398072/398072 [==============================] - 2s 4us/step - loss: 6.5829e-05 - acc: 1.0000\n",
      "Epoch 153/200\n"
     ]
    },
    {
     "name": "stdout",
     "output_type": "stream",
     "text": [
      "398072/398072 [==============================] - 2s 4us/step - loss: 6.0835e-05 - acc: 1.0000\n",
      "Epoch 154/200\n",
      "398072/398072 [==============================] - 2s 4us/step - loss: 7.3223e-05 - acc: 1.0000\n",
      "Epoch 155/200\n",
      "398072/398072 [==============================] - 2s 4us/step - loss: 7.0328e-05 - acc: 1.0000\n",
      "Epoch 156/200\n",
      "398072/398072 [==============================] - 2s 4us/step - loss: 8.1340e-05 - acc: 1.0000\n",
      "Epoch 157/200\n",
      "398072/398072 [==============================] - 2s 4us/step - loss: 8.0485e-05 - acc: 1.0000\n",
      "Epoch 158/200\n",
      "398072/398072 [==============================] - 2s 4us/step - loss: 5.6938e-05 - acc: 1.0000\n",
      "Epoch 159/200\n",
      "398072/398072 [==============================] - 2s 4us/step - loss: 5.7497e-05 - acc: 1.0000\n",
      "Epoch 160/200\n",
      "398072/398072 [==============================] - 2s 4us/step - loss: 6.4152e-05 - acc: 1.0000\n",
      "Epoch 161/200\n",
      "398072/398072 [==============================] - 2s 4us/step - loss: 5.9308e-05 - acc: 1.0000\n",
      "Epoch 162/200\n",
      "398072/398072 [==============================] - 2s 4us/step - loss: 6.6314e-05 - acc: 1.0000\n",
      "Epoch 163/200\n",
      "398072/398072 [==============================] - 2s 4us/step - loss: 6.7020e-05 - acc: 1.0000\n",
      "Epoch 164/200\n",
      "398072/398072 [==============================] - 2s 4us/step - loss: 7.9620e-05 - acc: 1.0000\n",
      "Epoch 165/200\n",
      "398072/398072 [==============================] - 2s 4us/step - loss: 7.6042e-05 - acc: 1.0000\n",
      "Epoch 166/200\n",
      "398072/398072 [==============================] - 2s 4us/step - loss: 6.4482e-05 - acc: 1.0000\n",
      "Epoch 167/200\n",
      "398072/398072 [==============================] - 3s 8us/step - loss: 9.2206e-05 - acc: 1.0000\n",
      "Epoch 168/200\n",
      "398072/398072 [==============================] - 2s 4us/step - loss: 1.2320e-04 - acc: 1.0000\n",
      "Epoch 169/200\n",
      "398072/398072 [==============================] - 2s 4us/step - loss: 6.8690e-05 - acc: 1.0000\n",
      "Epoch 170/200\n",
      "398072/398072 [==============================] - 2s 4us/step - loss: 5.3442e-05 - acc: 1.0000\n",
      "Epoch 171/200\n",
      "398072/398072 [==============================] - 2s 4us/step - loss: 5.1082e-05 - acc: 1.0000\n",
      "Epoch 172/200\n",
      "398072/398072 [==============================] - 2s 4us/step - loss: 7.9259e-05 - acc: 1.0000\n",
      "Epoch 173/200\n",
      "398072/398072 [==============================] - 2s 4us/step - loss: 6.4642e-05 - acc: 1.0000\n",
      "Epoch 174/200\n",
      "398072/398072 [==============================] - 2s 4us/step - loss: 5.3809e-05 - acc: 1.0000\n",
      "Epoch 175/200\n",
      "398072/398072 [==============================] - 2s 4us/step - loss: 5.3578e-05 - acc: 1.0000\n",
      "Epoch 176/200\n",
      "398072/398072 [==============================] - 2s 4us/step - loss: 7.7211e-05 - acc: 1.0000\n",
      "Epoch 177/200\n",
      "398072/398072 [==============================] - 2s 4us/step - loss: 6.3175e-05 - acc: 1.0000\n",
      "Epoch 178/200\n",
      "398072/398072 [==============================] - 2s 4us/step - loss: 7.5440e-05 - acc: 1.0000\n",
      "Epoch 179/200\n",
      "398072/398072 [==============================] - 2s 4us/step - loss: 6.9142e-05 - acc: 1.0000\n",
      "Epoch 180/200\n",
      "398072/398072 [==============================] - 2s 4us/step - loss: 6.4718e-05 - acc: 1.0000\n",
      "Epoch 181/200\n",
      "398072/398072 [==============================] - 2s 4us/step - loss: 7.1695e-05 - acc: 1.0000\n",
      "Epoch 182/200\n",
      "398072/398072 [==============================] - 2s 4us/step - loss: 6.1758e-05 - acc: 1.0000\n",
      "Epoch 183/200\n",
      "398072/398072 [==============================] - 2s 4us/step - loss: 9.0909e-05 - acc: 1.0000\n",
      "Epoch 184/200\n",
      "398072/398072 [==============================] - 2s 4us/step - loss: 8.6845e-05 - acc: 1.0000\n",
      "Epoch 185/200\n",
      "398072/398072 [==============================] - 2s 4us/step - loss: 5.9758e-05 - acc: 1.0000\n",
      "Epoch 186/200\n",
      "398072/398072 [==============================] - 2s 4us/step - loss: 5.3838e-05 - acc: 1.0000\n",
      "Epoch 187/200\n",
      "398072/398072 [==============================] - 2s 4us/step - loss: 5.9365e-05 - acc: 1.0000\n",
      "Epoch 188/200\n",
      "398072/398072 [==============================] - 2s 4us/step - loss: 7.0189e-05 - acc: 1.0000\n",
      "Epoch 189/200\n",
      "398072/398072 [==============================] - 2s 4us/step - loss: 4.6408e-05 - acc: 1.0000\n",
      "Epoch 190/200\n",
      "398072/398072 [==============================] - 2s 4us/step - loss: 5.5190e-05 - acc: 1.0000\n",
      "Epoch 191/200\n",
      "398072/398072 [==============================] - 2s 4us/step - loss: 8.2952e-05 - acc: 1.0000\n",
      "Epoch 192/200\n",
      "398072/398072 [==============================] - 2s 4us/step - loss: 6.0284e-05 - acc: 1.0000\n",
      "Epoch 193/200\n",
      "398072/398072 [==============================] - 2s 4us/step - loss: 6.3363e-05 - acc: 1.0000\n",
      "Epoch 194/200\n",
      "398072/398072 [==============================] - 2s 4us/step - loss: 4.9924e-05 - acc: 1.0000\n",
      "Epoch 195/200\n",
      "398072/398072 [==============================] - 2s 4us/step - loss: 6.1315e-05 - acc: 1.0000\n",
      "Epoch 196/200\n",
      "398072/398072 [==============================] - 2s 4us/step - loss: 6.4107e-05 - acc: 1.0000\n",
      "Epoch 197/200\n",
      "398072/398072 [==============================] - 2s 4us/step - loss: 5.7957e-05 - acc: 1.0000\n",
      "Epoch 198/200\n",
      "398072/398072 [==============================] - 2s 4us/step - loss: 7.4078e-05 - acc: 1.0000\n",
      "Epoch 199/200\n",
      "398072/398072 [==============================] - 2s 4us/step - loss: 5.9127e-05 - acc: 1.0000\n",
      "Epoch 200/200\n",
      "398072/398072 [==============================] - 2s 4us/step - loss: 4.8231e-05 - acc: 1.0000\n",
      "398072/398072 [==============================] - 10s 24us/step\n",
      "Accuracy: 100.00\n"
     ]
    }
   ],
   "source": [
    "model.fit(X, y, epochs=200, batch_size=1000)\n",
    "# evaluate the keras model\n",
    "_, accuracy = model.evaluate(X, y)\n",
    "print('Accuracy: %.2f' % (accuracy*100))"
   ]
  },
  {
   "cell_type": "code",
   "execution_count": 25,
   "metadata": {},
   "outputs": [],
   "source": [
    "x_test = test.iloc[:, 0:28]\n",
    "y_true = test.iloc[:,28:29]"
   ]
  },
  {
   "cell_type": "code",
   "execution_count": 26,
   "metadata": {},
   "outputs": [],
   "source": [
    "y_pred = model.predict(x_test)"
   ]
  },
  {
   "cell_type": "code",
   "execution_count": 27,
   "metadata": {},
   "outputs": [],
   "source": [
    "y_pred = (y_pred > 0.5)"
   ]
  },
  {
   "cell_type": "code",
   "execution_count": 28,
   "metadata": {},
   "outputs": [],
   "source": [
    "import numpy as np"
   ]
  },
  {
   "cell_type": "code",
   "execution_count": 29,
   "metadata": {},
   "outputs": [
    {
     "data": {
      "image/png": "[encoded data removed]",
      "text/plain": [
       "<Figure size 864x864 with 2 Axes>"
      ]
     },
     "metadata": {},
     "output_type": "display_data"
    }
   ],
   "source": [
    "from sklearn.metrics import confusion_matrix, precision_recall_curve\n",
    "import seaborn as sns\n",
    "import matplotlib.pyplot as plt\n",
    "LABELS = [\"Normal\",\"Fraud\"]\n",
    "conf_matrix = confusion_matrix(y_true=y_true, y_pred=y_pred)\n",
    "tn, fp, fn, tp = conf_matrix.ravel() \n",
    "plt.figure(figsize=(12, 12))\n",
    "sns.heatmap(conf_matrix, xticklabels=LABELS, yticklabels=LABELS, annot=True, fmt=\"d\");\n",
    "plt.title(\"Confusion matrix\")\n",
    "plt.ylabel('True class')\n",
    "plt.xlabel('Predicted class')\n",
    "plt.show()"
   ]
  },
  {
   "cell_type": "code",
   "execution_count": 30,
   "metadata": {},
   "outputs": [
    {
     "name": "stdout",
     "output_type": "stream",
     "text": [
      "              precision    recall  f1-score   support\n",
      "\n",
      "           0       1.00      1.00      1.00     85279\n",
      "           1       0.78      0.82      0.80       164\n",
      "\n",
      "    accuracy                           1.00     85443\n",
      "   macro avg       0.89      0.91      0.90     85443\n",
      "weighted avg       1.00      1.00      1.00     85443\n",
      "\n"
     ]
    }
   ],
   "source": [
    "from sklearn.metrics import classification_report\n",
    "print(classification_report(y_true, y_pred))"
   ]
  },
  {
   "cell_type": "code",
   "execution_count": 31,
   "metadata": {},
   "outputs": [],
   "source": [
    "from sklearn.metrics import classification_report, accuracy_score"
   ]
  },
  {
   "cell_type": "code",
   "execution_count": 32,
   "metadata": {},
   "outputs": [
    {
     "name": "stdout",
     "output_type": "stream",
     "text": [
      "Accuracy Score:  0.9992158515033414\n"
     ]
    }
   ],
   "source": [
    "print (\"Accuracy Score: \", accuracy_score(y_true, y_pred))"
   ]
  },
  {
   "cell_type": "code",
   "execution_count": 33,
   "metadata": {},
   "outputs": [],
   "source": [
    "from sklearn.metrics import classification_report, precision_score"
   ]
  },
  {
   "cell_type": "code",
   "execution_count": 34,
   "metadata": {},
   "outputs": [
    {
     "name": "stdout",
     "output_type": "stream",
     "text": [
      "Precision Score:  0.783625730994152\n"
     ]
    }
   ],
   "source": [
    "print (\"Precision Score: \", precision_score(y_true, y_pred))"
   ]
  }
 ],
 "metadata": {
  "kernelspec": {
   "display_name": "conda_tensorflow_p36",
   "language": "python",
   "name": "conda_tensorflow_p36"
  },
  "language_info": {
   "codemirror_mode": {
    "name": "ipython",
    "version": 3
   },
   "file_extension": ".py",
   "mimetype": "text/x-python",
   "name": "python",
   "nbconvert_exporter": "python",
   "pygments_lexer": "ipython3",
   "version": "3.6.5"
  }
 },
 "nbformat": 4,
 "nbformat_minor": 2
}
