{
 "cells": [
  {
   "cell_type": "code",
   "execution_count": 1,
   "metadata": {},
   "outputs": [
    {
     "name": "stderr",
     "output_type": "stream",
     "text": [
      "Using TensorFlow backend.\n"
     ]
    }
   ],
   "source": [
    "# first neural network with keras tutorial\n",
    "from keras.models import Sequential\n",
    "from keras.layers import Dense\n",
    "import pandas as pd\n",
    "import numpy as np\n",
    "import matplotlib.pyplot as plt\n",
    "from keras.callbacks import ModelCheckpoint, TensorBoard\n",
    "from keras import regularizers\n",
    "from sklearn.preprocessing import StandardScaler\n",
    "from keras import regularizers\n",
    "from sklearn.metrics import classification_report"
   ]
  },
  {
   "cell_type": "code",
   "execution_count": 2,
   "metadata": {},
   "outputs": [],
   "source": [
    "dataset = pd.read_csv('creditcard2.csv', delimiter=',')"
   ]
  },
  {
   "cell_type": "code",
   "execution_count": 3,
   "metadata": {},
   "outputs": [
    {
     "data": {
      "text/plain": [
       "(284807, 31)"
      ]
     },
     "execution_count": 3,
     "metadata": {},
     "output_type": "execute_result"
    }
   ],
   "source": [
    "RANDOM_SEED = 314 #used to help randomly select the data points\n",
    "TEST_PCT = 0.3 # 20% of the data\n",
    "dataset.shape"
   ]
  },
  {
   "cell_type": "code",
   "execution_count": 4,
   "metadata": {},
   "outputs": [
    {
     "data": {
      "text/plain": [
       "Text(0, 0.5, 'Frequency')"
      ]
     },
     "execution_count": 4,
     "metadata": {},
     "output_type": "execute_result"
    },
    {
     "data": {
      "image/png": "[encoded data removed]",
      "text/plain": [
       "<Figure size 432x288 with 1 Axes>"
      ]
     },
     "metadata": {},
     "output_type": "display_data"
    }
   ],
   "source": [
    "# Let's plot the Transaction class against the Frequency\n",
    "labels = ['normal','fraud']\n",
    "classes = pd.value_counts(dataset['Class'], sort = True)\n",
    "classes.plot(kind = 'bar', rot=0)\n",
    "plt.title(\"Transaction class distribution\")\n",
    "plt.xticks(range(2), labels)\n",
    "plt.xlabel(\"Class\")\n",
    "plt.ylabel(\"Frequency\")"
   ]
  },
  {
   "cell_type": "code",
   "execution_count": 5,
   "metadata": {},
   "outputs": [],
   "source": [
    "dataset['Time'] = StandardScaler().fit_transform(dataset['Time'].values.reshape(-1, 1))\n",
    "dataset['Amount'] = StandardScaler().fit_transform(dataset['Amount'].values.reshape(-1, 1))"
   ]
  },
  {
   "cell_type": "code",
   "execution_count": 6,
   "metadata": {},
   "outputs": [
    {
     "data": {
      "text/html": [
       "<div>\n",
       "<style scoped>\n",
       "    .dataframe tbody tr th:only-of-type {\n",
       "        vertical-align: middle;\n",
       "    }\n",
       "\n",
       "    .dataframe tbody tr th {\n",
       "        vertical-align: top;\n",
       "    }\n",
       "\n",
       "    .dataframe thead th {\n",
       "        text-align: right;\n",
       "    }\n",
       "</style>\n",
       "<table border=\"1\" class=\"dataframe\">\n",
       "  <thead>\n",
       "    <tr style=\"text-align: right;\">\n",
       "      <th></th>\n",
       "      <th>Time</th>\n",
       "      <th>V1</th>\n",
       "      <th>V2</th>\n",
       "      <th>V3</th>\n",
       "      <th>V4</th>\n",
       "      <th>V5</th>\n",
       "      <th>V6</th>\n",
       "      <th>V7</th>\n",
       "      <th>V8</th>\n",
       "      <th>V9</th>\n",
       "      <th>...</th>\n",
       "      <th>V21</th>\n",
       "      <th>V22</th>\n",
       "      <th>V23</th>\n",
       "      <th>V24</th>\n",
       "      <th>V25</th>\n",
       "      <th>V26</th>\n",
       "      <th>V27</th>\n",
       "      <th>V28</th>\n",
       "      <th>Amount</th>\n",
       "      <th>Class</th>\n",
       "    </tr>\n",
       "  </thead>\n",
       "  <tbody>\n",
       "    <tr>\n",
       "      <th>0</th>\n",
       "      <td>-1.996583</td>\n",
       "      <td>-1.359807</td>\n",
       "      <td>-0.072781</td>\n",
       "      <td>2.536347</td>\n",
       "      <td>1.378155</td>\n",
       "      <td>-0.338321</td>\n",
       "      <td>0.462388</td>\n",
       "      <td>0.239599</td>\n",
       "      <td>0.098698</td>\n",
       "      <td>0.363787</td>\n",
       "      <td>...</td>\n",
       "      <td>-0.018307</td>\n",
       "      <td>0.277838</td>\n",
       "      <td>-0.110474</td>\n",
       "      <td>0.066928</td>\n",
       "      <td>0.128539</td>\n",
       "      <td>-0.189115</td>\n",
       "      <td>0.133558</td>\n",
       "      <td>-0.021053</td>\n",
       "      <td>0.244964</td>\n",
       "      <td>0</td>\n",
       "    </tr>\n",
       "    <tr>\n",
       "      <th>1</th>\n",
       "      <td>-1.996583</td>\n",
       "      <td>1.191857</td>\n",
       "      <td>0.266151</td>\n",
       "      <td>0.166480</td>\n",
       "      <td>0.448154</td>\n",
       "      <td>0.060018</td>\n",
       "      <td>-0.082361</td>\n",
       "      <td>-0.078803</td>\n",
       "      <td>0.085102</td>\n",
       "      <td>-0.255425</td>\n",
       "      <td>...</td>\n",
       "      <td>-0.225775</td>\n",
       "      <td>-0.638672</td>\n",
       "      <td>0.101288</td>\n",
       "      <td>-0.339846</td>\n",
       "      <td>0.167170</td>\n",
       "      <td>0.125895</td>\n",
       "      <td>-0.008983</td>\n",
       "      <td>0.014724</td>\n",
       "      <td>-0.342475</td>\n",
       "      <td>0</td>\n",
       "    </tr>\n",
       "    <tr>\n",
       "      <th>2</th>\n",
       "      <td>-1.996562</td>\n",
       "      <td>-1.358354</td>\n",
       "      <td>-1.340163</td>\n",
       "      <td>1.773209</td>\n",
       "      <td>0.379780</td>\n",
       "      <td>-0.503198</td>\n",
       "      <td>1.800499</td>\n",
       "      <td>0.791461</td>\n",
       "      <td>0.247676</td>\n",
       "      <td>-1.514654</td>\n",
       "      <td>...</td>\n",
       "      <td>0.247998</td>\n",
       "      <td>0.771679</td>\n",
       "      <td>0.909412</td>\n",
       "      <td>-0.689281</td>\n",
       "      <td>-0.327642</td>\n",
       "      <td>-0.139097</td>\n",
       "      <td>-0.055353</td>\n",
       "      <td>-0.059752</td>\n",
       "      <td>1.160686</td>\n",
       "      <td>0</td>\n",
       "    </tr>\n",
       "    <tr>\n",
       "      <th>3</th>\n",
       "      <td>-1.996562</td>\n",
       "      <td>-0.966272</td>\n",
       "      <td>-0.185226</td>\n",
       "      <td>1.792993</td>\n",
       "      <td>-0.863291</td>\n",
       "      <td>-0.010309</td>\n",
       "      <td>1.247203</td>\n",
       "      <td>0.237609</td>\n",
       "      <td>0.377436</td>\n",
       "      <td>-1.387024</td>\n",
       "      <td>...</td>\n",
       "      <td>-0.108300</td>\n",
       "      <td>0.005274</td>\n",
       "      <td>-0.190321</td>\n",
       "      <td>-1.175575</td>\n",
       "      <td>0.647376</td>\n",
       "      <td>-0.221929</td>\n",
       "      <td>0.062723</td>\n",
       "      <td>0.061458</td>\n",
       "      <td>0.140534</td>\n",
       "      <td>0</td>\n",
       "    </tr>\n",
       "    <tr>\n",
       "      <th>4</th>\n",
       "      <td>-1.996541</td>\n",
       "      <td>-1.158233</td>\n",
       "      <td>0.877737</td>\n",
       "      <td>1.548718</td>\n",
       "      <td>0.403034</td>\n",
       "      <td>-0.407193</td>\n",
       "      <td>0.095921</td>\n",
       "      <td>0.592941</td>\n",
       "      <td>-0.270533</td>\n",
       "      <td>0.817739</td>\n",
       "      <td>...</td>\n",
       "      <td>-0.009431</td>\n",
       "      <td>0.798278</td>\n",
       "      <td>-0.137458</td>\n",
       "      <td>0.141267</td>\n",
       "      <td>-0.206010</td>\n",
       "      <td>0.502292</td>\n",
       "      <td>0.219422</td>\n",
       "      <td>0.215153</td>\n",
       "      <td>-0.073403</td>\n",
       "      <td>0</td>\n",
       "    </tr>\n",
       "  </tbody>\n",
       "</table>\n",
       "<p>5 rows × 31 columns</p>\n",
       "</div>"
      ],
      "text/plain": [
       "       Time        V1        V2        V3        V4        V5        V6  \\\n",
       "0 -1.996583 -1.359807 -0.072781  2.536347  1.378155 -0.338321  0.462388   \n",
       "1 -1.996583  1.191857  0.266151  0.166480  0.448154  0.060018 -0.082361   \n",
       "2 -1.996562 -1.358354 -1.340163  1.773209  0.379780 -0.503198  1.800499   \n",
       "3 -1.996562 -0.966272 -0.185226  1.792993 -0.863291 -0.010309  1.247203   \n",
       "4 -1.996541 -1.158233  0.877737  1.548718  0.403034 -0.407193  0.095921   \n",
       "\n",
       "         V7        V8        V9  ...       V21       V22       V23       V24  \\\n",
       "0  0.239599  0.098698  0.363787  ... -0.018307  0.277838 -0.110474  0.066928   \n",
       "1 -0.078803  0.085102 -0.255425  ... -0.225775 -0.638672  0.101288 -0.339846   \n",
       "2  0.791461  0.247676 -1.514654  ...  0.247998  0.771679  0.909412 -0.689281   \n",
       "3  0.237609  0.377436 -1.387024  ... -0.108300  0.005274 -0.190321 -1.175575   \n",
       "4  0.592941 -0.270533  0.817739  ... -0.009431  0.798278 -0.137458  0.141267   \n",
       "\n",
       "        V25       V26       V27       V28    Amount  Class  \n",
       "0  0.128539 -0.189115  0.133558 -0.021053  0.244964      0  \n",
       "1  0.167170  0.125895 -0.008983  0.014724 -0.342475      0  \n",
       "2 -0.327642 -0.139097 -0.055353 -0.059752  1.160686      0  \n",
       "3  0.647376 -0.221929  0.062723  0.061458  0.140534      0  \n",
       "4 -0.206010  0.502292  0.219422  0.215153 -0.073403      0  \n",
       "\n",
       "[5 rows x 31 columns]"
      ]
     },
     "execution_count": 6,
     "metadata": {},
     "output_type": "execute_result"
    }
   ],
   "source": [
    "dataset.head()"
   ]
  },
  {
   "cell_type": "code",
   "execution_count": 11,
   "metadata": {},
   "outputs": [],
   "source": [
    "from sklearn.model_selection import train_test_split\n",
    "# 80% for the training set and 20% for the testing set\n",
    "train, test = train_test_split(dataset, test_size=TEST_PCT,random_state=RANDOM_SEED)\n",
    "test, val = train_test_split(test, test_size=TEST_PCT,random_state=RANDOM_SEED)"
   ]
  },
  {
   "cell_type": "code",
   "execution_count": 12,
   "metadata": {},
   "outputs": [],
   "source": [
    "train_x = train.loc[train['Class'] == 0]\n",
    "train_x = train_x.drop(['Class'], axis=1)\n",
    "\n",
    "val_y = val['Class']\n",
    "val_x = val.drop(['Class'], axis=1)\n",
    "\n",
    "test_y = test['Class']\n",
    "test_x = test.drop(['Class'], axis=1)"
   ]
  },
  {
   "cell_type": "code",
   "execution_count": 13,
   "metadata": {},
   "outputs": [
    {
     "name": "stdout",
     "output_type": "stream",
     "text": [
      "Shapes are: Train= (199364, 31)  Validation= (25633, 31)  Test= (59810, 31)\n"
     ]
    }
   ],
   "source": [
    "print('Shapes are: Train=',train.shape,' Validation=',val.shape,' Test=',test.shape)"
   ]
  },
  {
   "cell_type": "code",
   "execution_count": 14,
   "metadata": {},
   "outputs": [],
   "source": [
    "from keras.layers import Input, Dense\n",
    "from keras.models import Model"
   ]
  },
  {
   "cell_type": "code",
   "execution_count": 15,
   "metadata": {},
   "outputs": [
    {
     "name": "stderr",
     "output_type": "stream",
     "text": [
      "WARNING: Logging before flag parsing goes to stderr.\n",
      "W1111 16:36:09.736761 140230354413376 deprecation_wrapper.py:119] From /home/ec2-user/anaconda3/envs/tensorflow_p36/lib/python3.6/site-packages/keras/backend/tensorflow_backend.py:74: The name tf.get_default_graph is deprecated. Please use tf.compat.v1.get_default_graph instead.\n",
      "\n",
      "W1111 16:36:09.751610 140230354413376 deprecation_wrapper.py:119] From /home/ec2-user/anaconda3/envs/tensorflow_p36/lib/python3.6/site-packages/keras/backend/tensorflow_backend.py:517: The name tf.placeholder is deprecated. Please use tf.compat.v1.placeholder instead.\n",
      "\n",
      "W1111 16:36:09.754782 140230354413376 deprecation_wrapper.py:119] From /home/ec2-user/anaconda3/envs/tensorflow_p36/lib/python3.6/site-packages/keras/backend/tensorflow_backend.py:4138: The name tf.random_uniform is deprecated. Please use tf.random.uniform instead.\n",
      "\n",
      "W1111 16:36:09.796591 140230354413376 deprecation_wrapper.py:119] From /home/ec2-user/anaconda3/envs/tensorflow_p36/lib/python3.6/site-packages/keras/optimizers.py:790: The name tf.train.Optimizer is deprecated. Please use tf.compat.v1.train.Optimizer instead.\n",
      "\n"
     ]
    },
    {
     "name": "stdout",
     "output_type": "stream",
     "text": [
      "_________________________________________________________________\n",
      "Layer (type)                 Output Shape              Param #   \n",
      "=================================================================\n",
      "input_1 (InputLayer)         (None, 30)                0         \n",
      "_________________________________________________________________\n",
      "dense_1 (Dense)              (None, 14)                434       \n",
      "_________________________________________________________________\n",
      "dense_2 (Dense)              (None, 7)                 105       \n",
      "_________________________________________________________________\n",
      "dense_3 (Dense)              (None, 14)                112       \n",
      "_________________________________________________________________\n",
      "dense_4 (Dense)              (None, 30)                450       \n",
      "=================================================================\n",
      "Total params: 1,101\n",
      "Trainable params: 1,101\n",
      "Non-trainable params: 0\n",
      "_________________________________________________________________\n"
     ]
    }
   ],
   "source": [
    "# this is the size of our encoded representations\n",
    "nb_epoch = 100\n",
    "batch_size = 128\n",
    "input_dim = train_x.shape[1]\n",
    "encoding_dim = int(input_dim / 2) - 1\n",
    "hidden_dim = int(encoding_dim / 2)\n",
    "learning_rate = 1e-7\n",
    "\n",
    "input_layer = Input(shape=(input_dim, ))\n",
    "encoder = Dense(encoding_dim, activation=\"tanh\", activity_regularizer=regularizers.l1(learning_rate))(input_layer)\n",
    "encoder = Dense(hidden_dim, activation=\"relu\")(encoder)\n",
    "decoder = Dense(encoding_dim, activation='tanh')(encoder)\n",
    "decoder = Dense(input_dim, activation='relu')(decoder)\n",
    "autoencoder = Model(inputs=input_layer, outputs=decoder)\n",
    "\n",
    "autoencoder.summary()\n",
    "\n",
    "autoencoder.compile(optimizer='adam', loss='mean_squared_error',metrics=['accuracy'])\n"
   ]
  },
  {
   "cell_type": "code",
   "execution_count": null,
   "metadata": {},
   "outputs": [
    {
     "name": "stderr",
     "output_type": "stream",
     "text": [
      "W1111 16:36:15.771705 140230354413376 deprecation_wrapper.py:119] From /home/ec2-user/anaconda3/envs/tensorflow_p36/lib/python3.6/site-packages/keras/backend/tensorflow_backend.py:986: The name tf.assign_add is deprecated. Please use tf.compat.v1.assign_add instead.\n",
      "\n",
      "W1111 16:36:15.850600 140230354413376 deprecation_wrapper.py:119] From /home/ec2-user/anaconda3/envs/tensorflow_p36/lib/python3.6/site-packages/keras/backend/tensorflow_backend.py:973: The name tf.assign is deprecated. Please use tf.compat.v1.assign instead.\n",
      "\n"
     ]
    },
    {
     "name": "stdout",
     "output_type": "stream",
     "text": [
      "Train on 199036 samples, validate on 25633 samples\n"
     ]
    },
    {
     "name": "stderr",
     "output_type": "stream",
     "text": [
      "W1111 16:36:16.336565 140230354413376 deprecation_wrapper.py:119] From /home/ec2-user/anaconda3/envs/tensorflow_p36/lib/python3.6/site-packages/keras/callbacks.py:850: The name tf.summary.merge_all is deprecated. Please use tf.compat.v1.summary.merge_all instead.\n",
      "\n",
      "W1111 16:36:16.337325 140230354413376 deprecation_wrapper.py:119] From /home/ec2-user/anaconda3/envs/tensorflow_p36/lib/python3.6/site-packages/keras/callbacks.py:853: The name tf.summary.FileWriter is deprecated. Please use tf.compat.v1.summary.FileWriter instead.\n",
      "\n"
     ]
    },
    {
     "name": "stdout",
     "output_type": "stream",
     "text": [
      "Epoch 1/100\n",
      "199036/199036 [==============================] - 4s 23us/step - loss: 0.8487 - acc: 0.5363 - val_loss: 0.8349 - val_acc: 0.6171\n",
      "Epoch 2/100\n",
      "199036/199036 [==============================] - 4s 18us/step - loss: 0.7557 - acc: 0.6331 - val_loss: 0.7792 - val_acc: 0.6434\n",
      "Epoch 3/100\n",
      "199036/199036 [==============================] - 4s 18us/step - loss: 0.7248 - acc: 0.6670 - val_loss: 0.7598 - val_acc: 0.6827\n",
      "Epoch 4/100\n",
      "199036/199036 [==============================] - 4s 18us/step - loss: 0.7120 - acc: 0.6868 - val_loss: 0.7514 - val_acc: 0.6867\n",
      "Epoch 5/100\n",
      "199036/199036 [==============================] - 4s 18us/step - loss: 0.7060 - acc: 0.6913 - val_loss: 0.7469 - val_acc: 0.6875\n",
      "Epoch 6/100\n",
      "199036/199036 [==============================] - 4s 18us/step - loss: 0.7022 - acc: 0.6953 - val_loss: 0.7436 - val_acc: 0.6948\n",
      "Epoch 7/100\n",
      "199036/199036 [==============================] - 4s 18us/step - loss: 0.6991 - acc: 0.6999 - val_loss: 0.7402 - val_acc: 0.7020\n",
      "Epoch 8/100\n",
      "199036/199036 [==============================] - 4s 18us/step - loss: 0.6967 - acc: 0.7035 - val_loss: 0.7384 - val_acc: 0.7024\n",
      "Epoch 9/100\n",
      "199036/199036 [==============================] - 4s 18us/step - loss: 0.6947 - acc: 0.7058 - val_loss: 0.7369 - val_acc: 0.7047\n",
      "Epoch 10/100\n",
      "199036/199036 [==============================] - 4s 18us/step - loss: 0.6933 - acc: 0.7068 - val_loss: 0.7355 - val_acc: 0.7081\n",
      "Epoch 11/100\n",
      "199036/199036 [==============================] - 4s 18us/step - loss: 0.6917 - acc: 0.7086 - val_loss: 0.7340 - val_acc: 0.7083\n",
      "Epoch 12/100\n",
      "199036/199036 [==============================] - 4s 19us/step - loss: 0.6906 - acc: 0.7079 - val_loss: 0.7329 - val_acc: 0.7058\n",
      "Epoch 13/100\n",
      "199036/199036 [==============================] - 4s 18us/step - loss: 0.6895 - acc: 0.7084 - val_loss: 0.7314 - val_acc: 0.7086\n",
      "Epoch 14/100\n",
      "199036/199036 [==============================] - 4s 18us/step - loss: 0.6882 - acc: 0.7097 - val_loss: 0.7321 - val_acc: 0.7013\n",
      "Epoch 15/100\n",
      "199036/199036 [==============================] - 4s 18us/step - loss: 0.6871 - acc: 0.7099 - val_loss: 0.7288 - val_acc: 0.7069\n",
      "Epoch 16/100\n",
      "199036/199036 [==============================] - 4s 18us/step - loss: 0.6856 - acc: 0.7095 - val_loss: 0.7280 - val_acc: 0.7101\n",
      "Epoch 17/100\n",
      "199036/199036 [==============================] - 4s 18us/step - loss: 0.6840 - acc: 0.7095 - val_loss: 0.7261 - val_acc: 0.7089\n",
      "Epoch 18/100\n",
      "199036/199036 [==============================] - 4s 18us/step - loss: 0.6833 - acc: 0.7098 - val_loss: 0.7253 - val_acc: 0.7102\n",
      "Epoch 19/100\n",
      "199036/199036 [==============================] - 4s 18us/step - loss: 0.6827 - acc: 0.7104 - val_loss: 0.7250 - val_acc: 0.7065\n",
      "Epoch 20/100\n",
      "199036/199036 [==============================] - 4s 19us/step - loss: 0.6817 - acc: 0.7095 - val_loss: 0.7241 - val_acc: 0.7025\n",
      "Epoch 21/100\n",
      "199036/199036 [==============================] - 4s 18us/step - loss: 0.6811 - acc: 0.7104 - val_loss: 0.7240 - val_acc: 0.7084\n",
      "Epoch 22/100\n",
      "199036/199036 [==============================] - 4s 18us/step - loss: 0.6803 - acc: 0.7117 - val_loss: 0.7222 - val_acc: 0.7070\n",
      "Epoch 23/100\n",
      "199036/199036 [==============================] - 4s 18us/step - loss: 0.6800 - acc: 0.7124 - val_loss: 0.7237 - val_acc: 0.7085\n",
      "Epoch 24/100\n",
      "199036/199036 [==============================] - 4s 18us/step - loss: 0.6792 - acc: 0.7123 - val_loss: 0.7217 - val_acc: 0.7133\n",
      "Epoch 25/100\n",
      "199036/199036 [==============================] - 4s 18us/step - loss: 0.6790 - acc: 0.7127 - val_loss: 0.7215 - val_acc: 0.7108\n",
      "Epoch 26/100\n",
      "199036/199036 [==============================] - 4s 18us/step - loss: 0.6785 - acc: 0.7126 - val_loss: 0.7217 - val_acc: 0.7104\n",
      "Epoch 27/100\n",
      "199036/199036 [==============================] - 4s 18us/step - loss: 0.6782 - acc: 0.7131 - val_loss: 0.7210 - val_acc: 0.7151\n",
      "Epoch 28/100\n",
      "199036/199036 [==============================] - 4s 18us/step - loss: 0.6777 - acc: 0.7124 - val_loss: 0.7207 - val_acc: 0.7149\n",
      "Epoch 29/100\n",
      "199036/199036 [==============================] - 4s 18us/step - loss: 0.6772 - acc: 0.7141 - val_loss: 0.7196 - val_acc: 0.7065\n",
      "Epoch 30/100\n",
      "199036/199036 [==============================] - 4s 18us/step - loss: 0.6772 - acc: 0.7130 - val_loss: 0.7219 - val_acc: 0.7048\n",
      "Epoch 31/100\n",
      "199036/199036 [==============================] - 4s 18us/step - loss: 0.6768 - acc: 0.7137 - val_loss: 0.7197 - val_acc: 0.7101\n",
      "Epoch 32/100\n",
      "199036/199036 [==============================] - 4s 18us/step - loss: 0.6763 - acc: 0.7134 - val_loss: 0.7191 - val_acc: 0.7112\n",
      "Epoch 33/100\n",
      "199036/199036 [==============================] - 4s 18us/step - loss: 0.6759 - acc: 0.7135 - val_loss: 0.7189 - val_acc: 0.7080\n",
      "Epoch 34/100\n",
      "199036/199036 [==============================] - 4s 18us/step - loss: 0.6759 - acc: 0.7133 - val_loss: 0.7194 - val_acc: 0.7119\n",
      "Epoch 35/100\n",
      "199036/199036 [==============================] - 4s 18us/step - loss: 0.6755 - acc: 0.7136 - val_loss: 0.7182 - val_acc: 0.7137\n",
      "Epoch 36/100\n",
      "199036/199036 [==============================] - 4s 19us/step - loss: 0.6750 - acc: 0.7143 - val_loss: 0.7178 - val_acc: 0.7077\n",
      "Epoch 37/100\n",
      "199036/199036 [==============================] - 4s 19us/step - loss: 0.6746 - acc: 0.7145 - val_loss: 0.7201 - val_acc: 0.7069\n",
      "Epoch 38/100\n",
      "199036/199036 [==============================] - 4s 18us/step - loss: 0.6743 - acc: 0.7143 - val_loss: 0.7173 - val_acc: 0.7094\n",
      "Epoch 39/100\n",
      "199036/199036 [==============================] - 4s 18us/step - loss: 0.6743 - acc: 0.7151 - val_loss: 0.7171 - val_acc: 0.7074\n",
      "Epoch 40/100\n",
      "199036/199036 [==============================] - 4s 18us/step - loss: 0.6739 - acc: 0.7149 - val_loss: 0.7178 - val_acc: 0.7183\n",
      "Epoch 41/100\n",
      "199036/199036 [==============================] - 4s 18us/step - loss: 0.6738 - acc: 0.7154 - val_loss: 0.7165 - val_acc: 0.7146\n",
      "Epoch 42/100\n",
      "199036/199036 [==============================] - 4s 18us/step - loss: 0.6733 - acc: 0.7161 - val_loss: 0.7185 - val_acc: 0.7163\n",
      "Epoch 43/100\n",
      "199036/199036 [==============================] - 4s 18us/step - loss: 0.6735 - acc: 0.7164 - val_loss: 0.7158 - val_acc: 0.7148\n",
      "Epoch 44/100\n",
      "199036/199036 [==============================] - 4s 20us/step - loss: 0.6734 - acc: 0.7157 - val_loss: 0.7165 - val_acc: 0.7126\n",
      "Epoch 45/100\n",
      "199036/199036 [==============================] - 5s 26us/step - loss: 0.6732 - acc: 0.7158 - val_loss: 0.7161 - val_acc: 0.7145\n",
      "Epoch 46/100\n",
      "199036/199036 [==============================] - 4s 18us/step - loss: 0.6729 - acc: 0.7159 - val_loss: 0.7155 - val_acc: 0.7055\n",
      "Epoch 47/100\n",
      "199036/199036 [==============================] - 4s 19us/step - loss: 0.6728 - acc: 0.7165 - val_loss: 0.7165 - val_acc: 0.7155\n",
      "Epoch 48/100\n",
      "199036/199036 [==============================] - 4s 18us/step - loss: 0.6724 - acc: 0.7169 - val_loss: 0.7161 - val_acc: 0.7137\n",
      "Epoch 49/100\n",
      "199036/199036 [==============================] - 4s 18us/step - loss: 0.6725 - acc: 0.7172 - val_loss: 0.7150 - val_acc: 0.7239\n",
      "Epoch 50/100\n",
      "199036/199036 [==============================] - 4s 18us/step - loss: 0.6722 - acc: 0.7176 - val_loss: 0.7155 - val_acc: 0.7103\n",
      "Epoch 51/100\n",
      "199036/199036 [==============================] - 4s 18us/step - loss: 0.6722 - acc: 0.7174 - val_loss: 0.7149 - val_acc: 0.7181\n",
      "Epoch 52/100\n",
      "199036/199036 [==============================] - 4s 19us/step - loss: 0.6722 - acc: 0.7176 - val_loss: 0.7145 - val_acc: 0.7171\n",
      "Epoch 53/100\n",
      "199036/199036 [==============================] - 4s 18us/step - loss: 0.6720 - acc: 0.7182 - val_loss: 0.7165 - val_acc: 0.7128\n",
      "Epoch 54/100\n",
      "199036/199036 [==============================] - 4s 18us/step - loss: 0.6718 - acc: 0.7179 - val_loss: 0.7156 - val_acc: 0.7147\n",
      "Epoch 55/100\n",
      "199036/199036 [==============================] - 4s 18us/step - loss: 0.6716 - acc: 0.7185 - val_loss: 0.7145 - val_acc: 0.7108\n",
      "Epoch 56/100\n",
      "199036/199036 [==============================] - 4s 18us/step - loss: 0.6717 - acc: 0.7190 - val_loss: 0.7162 - val_acc: 0.7138\n",
      "Epoch 57/100\n",
      "199036/199036 [==============================] - 4s 19us/step - loss: 0.6716 - acc: 0.7191 - val_loss: 0.7138 - val_acc: 0.7176\n",
      "Epoch 58/100\n",
      "199036/199036 [==============================] - 4s 18us/step - loss: 0.6718 - acc: 0.7195 - val_loss: 0.7145 - val_acc: 0.7168\n",
      "Epoch 59/100\n"
     ]
    },
    {
     "name": "stdout",
     "output_type": "stream",
     "text": [
      "199036/199036 [==============================] - 4s 18us/step - loss: 0.6715 - acc: 0.7193 - val_loss: 0.7224 - val_acc: 0.7180\n",
      "Epoch 60/100\n",
      "199036/199036 [==============================] - 4s 18us/step - loss: 0.6713 - acc: 0.7204 - val_loss: 0.7141 - val_acc: 0.7157\n",
      "Epoch 61/100\n",
      "199036/199036 [==============================] - 4s 18us/step - loss: 0.6712 - acc: 0.7196 - val_loss: 0.7142 - val_acc: 0.7175\n",
      "Epoch 62/100\n",
      "199036/199036 [==============================] - 4s 18us/step - loss: 0.6712 - acc: 0.7198 - val_loss: 0.7244 - val_acc: 0.7145\n",
      "Epoch 63/100\n",
      "199036/199036 [==============================] - 4s 18us/step - loss: 0.6709 - acc: 0.7198 - val_loss: 0.7142 - val_acc: 0.7122\n",
      "Epoch 64/100\n",
      "199036/199036 [==============================] - 4s 18us/step - loss: 0.6709 - acc: 0.7203 - val_loss: 0.7128 - val_acc: 0.7205\n",
      "Epoch 65/100\n",
      "199036/199036 [==============================] - 4s 18us/step - loss: 0.6710 - acc: 0.7193 - val_loss: 0.7128 - val_acc: 0.7208\n",
      "Epoch 66/100\n",
      "199036/199036 [==============================] - 4s 18us/step - loss: 0.6705 - acc: 0.7201 - val_loss: 0.7139 - val_acc: 0.7227\n",
      "Epoch 67/100\n",
      "199036/199036 [==============================] - 4s 18us/step - loss: 0.6709 - acc: 0.7208 - val_loss: 0.7143 - val_acc: 0.7167\n",
      "Epoch 68/100\n",
      "199036/199036 [==============================] - 4s 18us/step - loss: 0.6705 - acc: 0.7205 - val_loss: 0.7132 - val_acc: 0.7177\n",
      "Epoch 69/100\n",
      "199036/199036 [==============================] - 4s 18us/step - loss: 0.6707 - acc: 0.7203 - val_loss: 0.7140 - val_acc: 0.7167\n",
      "Epoch 70/100\n",
      "199036/199036 [==============================] - 4s 18us/step - loss: 0.6703 - acc: 0.7200 - val_loss: 0.7129 - val_acc: 0.7231\n",
      "Epoch 71/100\n",
      "199036/199036 [==============================] - 4s 18us/step - loss: 0.6701 - acc: 0.7220 - val_loss: 0.7155 - val_acc: 0.7204\n",
      "Epoch 72/100\n",
      "199036/199036 [==============================] - 4s 19us/step - loss: 0.6707 - acc: 0.7209 - val_loss: 0.7123 - val_acc: 0.7242\n",
      "Epoch 73/100\n",
      "199036/199036 [==============================] - 4s 19us/step - loss: 0.6701 - acc: 0.7221 - val_loss: 0.7131 - val_acc: 0.7137\n",
      "Epoch 74/100\n",
      "199036/199036 [==============================] - 4s 18us/step - loss: 0.6704 - acc: 0.7214 - val_loss: 0.7137 - val_acc: 0.7157\n",
      "Epoch 75/100\n",
      "199036/199036 [==============================] - 4s 18us/step - loss: 0.6700 - acc: 0.7211 - val_loss: 0.7135 - val_acc: 0.7231\n",
      "Epoch 76/100\n",
      "199036/199036 [==============================] - 4s 19us/step - loss: 0.6701 - acc: 0.7229 - val_loss: 0.7127 - val_acc: 0.7133\n",
      "Epoch 77/100\n",
      "199036/199036 [==============================] - 4s 18us/step - loss: 0.6700 - acc: 0.7226 - val_loss: 0.7128 - val_acc: 0.7162\n",
      "Epoch 78/100\n",
      "199036/199036 [==============================] - 4s 18us/step - loss: 0.6696 - acc: 0.7225 - val_loss: 0.7171 - val_acc: 0.7165\n",
      "Epoch 79/100\n",
      "199036/199036 [==============================] - 4s 18us/step - loss: 0.6696 - acc: 0.7228 - val_loss: 0.7127 - val_acc: 0.7220\n",
      "Epoch 80/100\n",
      "199036/199036 [==============================] - 4s 18us/step - loss: 0.6695 - acc: 0.7230 - val_loss: 0.7118 - val_acc: 0.7220\n",
      "Epoch 81/100\n",
      "199036/199036 [==============================] - 4s 19us/step - loss: 0.6696 - acc: 0.7226 - val_loss: 0.7130 - val_acc: 0.7103\n",
      "Epoch 82/100\n",
      "199036/199036 [==============================] - 4s 18us/step - loss: 0.6696 - acc: 0.7234 - val_loss: 0.7119 - val_acc: 0.7166\n",
      "Epoch 83/100\n",
      "199036/199036 [==============================] - 4s 18us/step - loss: 0.6685 - acc: 0.7227 - val_loss: 0.7118 - val_acc: 0.7197\n",
      "Epoch 99/100\n",
      "199036/199036 [==============================] - 4s 18us/step - loss: 0.6689 - acc: 0.7231 - val_loss: 0.7114 - val_acc: 0.7282\n",
      "Epoch 100/100\n",
      "199036/199036 [==============================] - 4s 18us/step - loss: 0.6684 - acc: 0.7230 - val_loss: 0.7113 - val_acc: 0.7166\n"
     ]
    }
   ],
   "source": [
    "cp = ModelCheckpoint(filepath=\"autoencoder_fraud.h5\",\n",
    "                               save_best_only=True,\n",
    "                               verbose=0)\n",
    "\n",
    "tb = TensorBoard(log_dir='./logs',\n",
    "                histogram_freq=0,\n",
    "                write_graph=True,\n",
    "                write_images=True)\n",
    "\n",
    "history = autoencoder.fit(train_x, train_x,\n",
    "                    epochs=nb_epoch,\n",
    "                    batch_size=batch_size,\n",
    "                    shuffle=True,\n",
    "                    validation_data=(val_x, val_x),\n",
    "                    verbose=1,\n",
    "                    callbacks=[cp, tb]).history"
   ]
  },
  {
   "cell_type": "code",
   "execution_count": 17,
   "metadata": {},
   "outputs": [],
   "source": [
    "from sklearn.metrics import confusion_matrix, precision_recall_curve,cohen_kappa_score\n",
    "from sklearn.metrics import recall_score, classification_report, auc, roc_curve\n",
    "from sklearn.metrics import precision_recall_fscore_support, f1_score"
   ]
  },
  {
   "cell_type": "code",
   "execution_count": 18,
   "metadata": {},
   "outputs": [
    {
     "data": {
      "image/png": "[encoded data removed]",
      "text/plain": [
       "<Figure size 432x288 with 1 Axes>"
      ]
     },
     "metadata": {},
     "output_type": "display_data"
    }
   ],
   "source": [
    "plt.plot(history['loss'], linewidth=2, label='Train')\n",
    "plt.plot(history['val_loss'], linewidth=2, label='Test')\n",
    "plt.legend(loc='upper right')\n",
    "plt.title('Model loss')\n",
    "plt.ylabel('Loss')\n",
    "plt.xlabel('Epoch')\n",
    "#plt.ylim(ymin=0.70,ymax=1)\n",
    "plt.show()"
   ]
  },
  {
   "cell_type": "code",
   "execution_count": 19,
   "metadata": {},
   "outputs": [
    {
     "data": {
      "text/html": [
       "<div>\n",
       "<style scoped>\n",
       "    .dataframe tbody tr th:only-of-type {\n",
       "        vertical-align: middle;\n",
       "    }\n",
       "\n",
       "    .dataframe tbody tr th {\n",
       "        vertical-align: top;\n",
       "    }\n",
       "\n",
       "    .dataframe thead th {\n",
       "        text-align: right;\n",
       "    }\n",
       "</style>\n",
       "<table border=\"1\" class=\"dataframe\">\n",
       "  <thead>\n",
       "    <tr style=\"text-align: right;\">\n",
       "      <th></th>\n",
       "      <th>reconstruction_error</th>\n",
       "      <th>true_class</th>\n",
       "    </tr>\n",
       "  </thead>\n",
       "  <tbody>\n",
       "    <tr>\n",
       "      <th>count</th>\n",
       "      <td>59810.000000</td>\n",
       "      <td>59810.000000</td>\n",
       "    </tr>\n",
       "    <tr>\n",
       "      <th>mean</th>\n",
       "      <td>0.713693</td>\n",
       "      <td>0.001939</td>\n",
       "    </tr>\n",
       "    <tr>\n",
       "      <th>std</th>\n",
       "      <td>3.201032</td>\n",
       "      <td>0.043997</td>\n",
       "    </tr>\n",
       "    <tr>\n",
       "      <th>min</th>\n",
       "      <td>0.041934</td>\n",
       "      <td>0.000000</td>\n",
       "    </tr>\n",
       "    <tr>\n",
       "      <th>25%</th>\n",
       "      <td>0.241293</td>\n",
       "      <td>0.000000</td>\n",
       "    </tr>\n",
       "    <tr>\n",
       "      <th>50%</th>\n",
       "      <td>0.375695</td>\n",
       "      <td>0.000000</td>\n",
       "    </tr>\n",
       "    <tr>\n",
       "      <th>75%</th>\n",
       "      <td>0.599329</td>\n",
       "      <td>0.000000</td>\n",
       "    </tr>\n",
       "    <tr>\n",
       "      <th>max</th>\n",
       "      <td>204.075634</td>\n",
       "      <td>1.000000</td>\n",
       "    </tr>\n",
       "  </tbody>\n",
       "</table>\n",
       "</div>"
      ],
      "text/plain": [
       "       reconstruction_error    true_class\n",
       "count          59810.000000  59810.000000\n",
       "mean               0.713693      0.001939\n",
       "std                3.201032      0.043997\n",
       "min                0.041934      0.000000\n",
       "25%                0.241293      0.000000\n",
       "50%                0.375695      0.000000\n",
       "75%                0.599329      0.000000\n",
       "max              204.075634      1.000000"
      ]
     },
     "execution_count": 19,
     "metadata": {},
     "output_type": "execute_result"
    }
   ],
   "source": [
    "y_pred = autoencoder.predict(test_x)\n",
    "mse = np.mean(np.power(test_x - y_pred, 2), axis=1)\n",
    "error_df = pd.DataFrame({'reconstruction_error': mse,'true_class': test_y})\n",
    "error_df.describe()"
   ]
  },
  {
   "cell_type": "markdown",
   "metadata": {},
   "source": [
    "## Reconstruction error without fraud"
   ]
  },
  {
   "cell_type": "code",
   "execution_count": 20,
   "metadata": {},
   "outputs": [
    {
     "data": {
      "image/png": "[encoded data removed]",
      "text/plain": [
       "<Figure size 432x288 with 1 Axes>"
      ]
     },
     "metadata": {},
     "output_type": "display_data"
    }
   ],
   "source": [
    "fig = plt.figure()\n",
    "ax = fig.add_subplot(111)\n",
    "normal_error_df = error_df[(error_df['true_class']== 0) & (error_df['reconstruction_error'] < 10)]\n",
    "_ = ax.hist(normal_error_df.reconstruction_error.values, bins=10)\n"
   ]
  },
  {
   "cell_type": "markdown",
   "metadata": {},
   "source": [
    "## Reconstruction error with fraud"
   ]
  },
  {
   "cell_type": "code",
   "execution_count": 21,
   "metadata": {},
   "outputs": [
    {
     "data": {
      "image/png": "[encoded data removed]",
      "text/plain": [
       "<Figure size 432x288 with 1 Axes>"
      ]
     },
     "metadata": {},
     "output_type": "display_data"
    }
   ],
   "source": [
    "fig = plt.figure()\n",
    "ax = fig.add_subplot(111)\n",
    "fraud_error_df = error_df[error_df['true_class'] == 1]\n",
    "_ = ax.hist(fraud_error_df.reconstruction_error.values, bins=10)"
   ]
  },
  {
   "cell_type": "code",
   "execution_count": 22,
   "metadata": {},
   "outputs": [],
   "source": [
    "from sklearn.metrics import (confusion_matrix, precision_recall_curve, auc,\n",
    "                             roc_curve, recall_score, classification_report, f1_score,\n",
    "                             precision_recall_fscore_support)"
   ]
  },
  {
   "cell_type": "code",
   "execution_count": 23,
   "metadata": {},
   "outputs": [
    {
     "data": {
      "image/png": "[encoded data removed]",
      "text/plain": [
       "<Figure size 432x288 with 1 Axes>"
      ]
     },
     "metadata": {},
     "output_type": "display_data"
    }
   ],
   "source": [
    "fpr, tpr, thresholds = roc_curve(error_df.true_class, error_df.reconstruction_error)\n",
    "roc_auc = auc(fpr, tpr)\n",
    "\n",
    "plt.title('Receiver Operating Characteristic')\n",
    "plt.plot(fpr, tpr, label='AUC = %0.4f'% roc_auc)\n",
    "plt.legend(loc='lower right')\n",
    "plt.plot([0,1],[0,1],'r--')\n",
    "plt.xlim([-0.001, 1])\n",
    "plt.ylim([0, 1.001])\n",
    "plt.ylabel('True Positive Rate')\n",
    "plt.xlabel('False Positive Rate')\n",
    "plt.show();"
   ]
  },
  {
   "cell_type": "code",
   "execution_count": 24,
   "metadata": {},
   "outputs": [
    {
     "data": {
      "image/png": "[encoded data removed]",
      "text/plain": [
       "<Figure size 432x288 with 1 Axes>"
      ]
     },
     "metadata": {},
     "output_type": "display_data"
    }
   ],
   "source": [
    "precision, recall, th = precision_recall_curve(error_df.true_class, error_df.reconstruction_error)\n",
    "plt.plot(recall, precision, 'b', label='Precision-Recall curve')\n",
    "plt.title('Recall vs Precision')\n",
    "plt.xlabel('Recall')\n",
    "plt.ylabel('Precision')\n",
    "plt.show()"
   ]
  },
  {
   "cell_type": "code",
   "execution_count": 25,
   "metadata": {},
   "outputs": [
    {
     "data": {
      "image/png": "[encoded data removed]",
      "text/plain": [
       "<Figure size 432x288 with 1 Axes>"
      ]
     },
     "metadata": {},
     "output_type": "display_data"
    }
   ],
   "source": [
    "plt.plot(th, precision[1:], 'b', label='Threshold-Precision curve')\n",
    "plt.title('Precision for different threshold values')\n",
    "plt.xlabel('Threshold')\n",
    "plt.ylabel('Precision')\n",
    "plt.show()"
   ]
  },
  {
   "cell_type": "code",
   "execution_count": 26,
   "metadata": {},
   "outputs": [
    {
     "data": {
      "image/png": "[encoded data removed]",
      "text/plain": [
       "<Figure size 432x288 with 1 Axes>"
      ]
     },
     "metadata": {},
     "output_type": "display_data"
    }
   ],
   "source": [
    "plt.plot(th, recall[1:], 'b', label='Threshold-Recall curve')\n",
    "plt.title('Recall for different threshold values')\n",
    "plt.xlabel('Reconstruction error')\n",
    "plt.ylabel('Recall')\n",
    "plt.show()"
   ]
  },
  {
   "cell_type": "code",
   "execution_count": 27,
   "metadata": {},
   "outputs": [],
   "source": [
    "threshold = 2.9"
   ]
  },
  {
   "cell_type": "code",
   "execution_count": 28,
   "metadata": {},
   "outputs": [
    {
     "data": {
      "image/png": "[encoded data removed]",
      "text/plain": [
       "<Figure size 432x288 with 1 Axes>"
      ]
     },
     "metadata": {},
     "output_type": "display_data"
    }
   ],
   "source": [
    "groups = error_df.groupby('true_class')\n",
    "fig, ax = plt.subplots()\n",
    "\n",
    "for name, group in groups:\n",
    "    ax.plot(group.index, group.reconstruction_error, marker='o', ms=3.5, linestyle='',\n",
    "            label= \"Fraud\" if name == 1 else \"Normal\")\n",
    "ax.hlines(threshold, ax.get_xlim()[0], ax.get_xlim()[1], colors=\"r\", zorder=100, label='Threshold')\n",
    "ax.legend()\n",
    "plt.title(\"Reconstruction error for different classes\")\n",
    "plt.ylabel(\"Reconstruction error\")\n",
    "plt.xlabel(\"Data point index\")\n",
    "plt.show();"
   ]
  },
  {
   "cell_type": "code",
   "execution_count": 29,
   "metadata": {},
   "outputs": [],
   "source": [
    "import seaborn as sns\n",
    "LABELS = [\"Normal\", \"Fraud\"]"
   ]
  },
  {
   "cell_type": "code",
   "execution_count": 30,
   "metadata": {},
   "outputs": [
    {
     "data": {
      "image/png": "[encoded data removed]",
      "text/plain": [
       "<Figure size 864x864 with 2 Axes>"
      ]
     },
     "metadata": {},
     "output_type": "display_data"
    }
   ],
   "source": [
    "y_pred = [1 if e > threshold else 0 for e in error_df.reconstruction_error.values]\n",
    "conf_matrix = confusion_matrix(error_df.true_class, y_pred)\n",
    "plt.figure(figsize=(12, 12))\n",
    "sns.heatmap(conf_matrix, xticklabels=LABELS, yticklabels=LABELS, annot=True, fmt=\"d\");\n",
    "plt.title(\"Confusion matrix\")\n",
    "plt.ylabel('True class')\n",
    "plt.xlabel('Predicted class')\n",
    "plt.show()"
   ]
  },
  {
   "cell_type": "code",
   "execution_count": 31,
   "metadata": {},
   "outputs": [
    {
     "data": {
      "text/plain": [
       "0.06874095513748191"
      ]
     },
     "execution_count": 31,
     "metadata": {},
     "output_type": "execute_result"
    }
   ],
   "source": [
    "from sklearn.metrics import precision_score,accuracy_score\n",
    "precision_score(y_true=error_df.true_class, y_pred=y_pred) "
   ]
  },
  {
   "cell_type": "code",
   "execution_count": 32,
   "metadata": {},
   "outputs": [
    {
     "data": {
      "text/plain": [
       "0.9781307473666611"
      ]
     },
     "execution_count": 32,
     "metadata": {},
     "output_type": "execute_result"
    }
   ],
   "source": [
    "precision_score(y_true=error_df.true_class, y_pred=y_pred)\n",
    "accuracy_score(y_true=error_df.true_class, y_pred=y_pred)"
   ]
  },
  {
   "cell_type": "code",
   "execution_count": 34,
   "metadata": {},
   "outputs": [
    {
     "name": "stdout",
     "output_type": "stream",
     "text": [
      "\n",
      "Classification Report: \n",
      "              precision    recall  f1-score   support\n",
      "\n",
      "           0       1.00      0.98      0.99     59694\n",
      "           1       0.07      0.82      0.13       116\n",
      "\n",
      "    accuracy                           0.98     59810\n",
      "   macro avg       0.53      0.90      0.56     59810\n",
      "weighted avg       1.00      0.98      0.99     59810\n",
      "\n",
      "\n",
      "Accuracy Score:  0.9781307473666611\n"
     ]
    }
   ],
   "source": [
    "print (\"\")\n",
    "print (\"Classification Report: \")\n",
    "print (classification_report(y_true=error_df.true_class, y_pred=y_pred))\n",
    "\n",
    "print (\"\")\n",
    "print (\"Accuracy Score: \", accuracy_score(y_true=error_df.true_class, y_pred=y_pred))"
   ]
  },
  {
   "cell_type": "code",
   "execution_count": null,
   "metadata": {},
   "outputs": [],
   "source": []
  }
 ],
 "metadata": {
  "kernelspec": {
   "display_name": "conda_tensorflow_p36",
   "language": "python",
   "name": "conda_tensorflow_p36"
  },
  "language_info": {
   "codemirror_mode": {
    "name": "ipython",
    "version": 3
   },
   "file_extension": ".py",
   "mimetype": "text/x-python",
   "name": "python",
   "nbconvert_exporter": "python",
   "pygments_lexer": "ipython3",
   "version": "3.6.5"
  }
 },
 "nbformat": 4,
 "nbformat_minor": 2
}
