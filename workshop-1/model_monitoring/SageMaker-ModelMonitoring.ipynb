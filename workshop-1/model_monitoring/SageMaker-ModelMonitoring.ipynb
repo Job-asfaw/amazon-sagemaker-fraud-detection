{
 "cells": [
  {
   "cell_type": "markdown",
   "metadata": {},
   "source": [
    "# Amazon SageMaker Model Monitor\n",
    "This notebook shows how to:\n",
    "* Host a machine learning model in Amazon SageMaker and capture inference requests, results, and metadata \n",
    "* Analyze a training dataset to generate baseline constraints\n",
    "* Monitor a live endpoint for violations against constraints\n",
    "\n",
    "---\n",
    "## Background\n",
    "\n",
    "Amazon SageMaker provides every developer and data scientist with the ability to build, train, and deploy machine learning models quickly. Amazon SageMaker is a fully-managed service that encompasses the entire machine learning workflow. You can label and prepare your data, choose an algorithm, train a model, and then tune and optimize it for deployment. You can deploy your models to production with Amazon SageMaker to make predictions and lower costs than was previously possible.\n",
    "\n",
    "In addition, Amazon SageMaker enables you to capture the input, output and metadata for invocations of the models that you deploy. It also enables you to analyze the data and monitor its quality. In this notebook, you learn how Amazon SageMaker enables these capabilities.\n",
    "\n",
    "---\n",
    "## Setup\n",
    "\n",
    "To get started, make sure you have these prerequisites completed.\n",
    "\n",
    "* Specify an AWS Region to host your model.\n",
    "* An IAM role ARN exists that is used to give Amazon SageMaker access to your data in Amazon Simple Storage Service (Amazon S3). See the documentation for how to fine tune the permissions needed. \n",
    "* Create an S3 bucket used to store the data used to train your model, any additional model data, and the data captured from model invocations. For demonstration purposes, you are using the same bucket for these. In reality, you might want to separate them with different security policies."
   ]
  },
  {
   "cell_type": "code",
   "execution_count": 146,
   "metadata": {
    "isConfigCell": true
   },
   "outputs": [
    {
     "name": "stdout",
     "output_type": "stream",
     "text": [
      "RoleArn: arn:aws:iam::328296961357:role/service-role/AmazonSageMaker-ExecutionRole-20190607T071619\n",
      "Demo Bucket: sagemaker-us-east-1-328296961357\n",
      "Capture path: s3://sagemaker-us-east-1-328296961357/sagemaker/ModelMonitor-1/DEMO-ModelMonitor/datacapture\n",
      "Report path: s3://sagemaker-us-east-1-328296961357/sagemaker/ModelMonitor-1/DEMO-ModelMonitor/reports\n",
      "Preproc Code path: s3://sagemaker-us-east-1-328296961357/sagemaker/ModelMonitor-1/DEMO-ModelMonitor/code/preprocessor.py\n",
      "Postproc Code path: s3://sagemaker-us-east-1-328296961357/sagemaker/ModelMonitor-1/DEMO-ModelMonitor/code/postprocessor.py\n",
      "CPU times: user 165 ms, sys: 12 ms, total: 177 ms\n",
      "Wall time: 341 ms\n"
     ]
    }
   ],
   "source": [
    "%%time\n",
    "\n",
    "# Handful of configuration\n",
    "\n",
    "import os\n",
    "import boto3\n",
    "import re\n",
    "import json\n",
    "from sagemaker import get_execution_role, session\n",
    "\n",
    "region= boto3.Session().region_name\n",
    "\n",
    "role = get_execution_role()\n",
    "print(\"RoleArn: {}\".format(role))\n",
    "\n",
    "# You can use a different bucket, but make sure the role you chose for this notebook\n",
    "# has the s3:PutObject permissions. This is the bucket into which the data is captured\n",
    "bucket =  session.Session(boto3.Session()).default_bucket()\n",
    "print(\"Demo Bucket: {}\".format(bucket))\n",
    "prefix = 'sagemaker/ModelMonitor-1/DEMO-ModelMonitor'\n",
    "\n",
    "data_capture_prefix = '{}/datacapture'.format(prefix)\n",
    "s3_capture_upload_path = 's3://{}/{}'.format(bucket, data_capture_prefix)\n",
    "reports_prefix = '{}/reports'.format(prefix)\n",
    "s3_report_path = 's3://{}/{}'.format(bucket,reports_prefix)\n",
    "code_prefix = '{}/code'.format(prefix)\n",
    "s3_code_preprocessor_uri = 's3://{}/{}/{}'.format(bucket,code_prefix, 'preprocessor.py')\n",
    "s3_code_postprocessor_uri = 's3://{}/{}/{}'.format(bucket,code_prefix, 'postprocessor.py')\n",
    "\n",
    "print(\"Capture path: {}\".format(s3_capture_upload_path))\n",
    "print(\"Report path: {}\".format(s3_report_path))\n",
    "print(\"Preproc Code path: {}\".format(s3_code_preprocessor_uri))\n",
    "print(\"Postproc Code path: {}\".format(s3_code_postprocessor_uri))"
   ]
  },
  {
   "cell_type": "markdown",
   "metadata": {},
   "source": [
    "You can quickly verify that the execution role for this notebook has the necessary permissions to proceed. Put a simple test object into the S3 bucket you speciﬁed above. If this command fails, update the role to have `s3:PutObject` permission on the bucket and try again."
   ]
  },
  {
   "cell_type": "code",
   "execution_count": 147,
   "metadata": {},
   "outputs": [
    {
     "name": "stdout",
     "output_type": "stream",
     "text": [
      "Success! You are all set to proceed.\n"
     ]
    }
   ],
   "source": [
    "# Upload some test files\n",
    "boto3.Session().resource('s3').Bucket(bucket).Object(\"test_upload/test.txt\").upload_file('test_data/upload-test-file.txt')\n",
    "print(\"Success! You are all set to proceed.\")"
   ]
  },
  {
   "cell_type": "code",
   "execution_count": 148,
   "metadata": {},
   "outputs": [
    {
     "name": "stdout",
     "output_type": "stream",
     "text": [
      "Exists!\n"
     ]
    }
   ],
   "source": [
    "### Test if the object has been uploaded successfully\n",
    "objs = list(boto3.Session().resource('s3').Bucket(bucket).objects.filter(Prefix=\"test_upload\"))\n",
    "if len(objs) > 0 and objs[0].key == \"test_upload/test.txt\":\n",
    "    print(\"Exists!\")\n",
    "else:\n",
    "    print(\"Doesn't exist\")"
   ]
  },
  {
   "cell_type": "code",
   "execution_count": 149,
   "metadata": {},
   "outputs": [
    {
     "name": "stdout",
     "output_type": "stream",
     "text": [
      "None\n"
     ]
    }
   ],
   "source": [
    "response = boto3.Session().resource('s3').Bucket(bucket).Object(\"test_upload/test.txt\").upload_file('test_data/upload-test-file.txt')\n",
    "print(response)\n",
    "if (response):\n",
    "    print(\"Success! You are all set to proceed.\")\n",
    "        "
   ]
  },
  {
   "cell_type": "markdown",
   "metadata": {},
   "source": [
    "# PART A: Capturing real-time inference data from Amazon SageMaker endpoints\n",
    "Create an endpoint to showcase the data capture capability in action.\n",
    "\n",
    "### Upload the pre-trained model to Amazon S3\n",
    "This code uploads a pre-trained XGBoost model that is ready for you to deploy. This model was trained using the XGB Churn Prediction Notebook in SageMaker. You can also use your own pre-trained model in this step. If you already have a pretrained model in Amazon S3, you can add it instead by specifying the s3_key."
   ]
  },
  {
   "cell_type": "code",
   "execution_count": 150,
   "metadata": {},
   "outputs": [
    {
     "name": "stdout",
     "output_type": "stream",
     "text": [
      "location of model in s3:  sagemaker/ModelMonitor-1/DEMO-ModelMonitor/xgb-churn-prediction-model.tar.gz\n"
     ]
    }
   ],
   "source": [
    "model_file = open(\"model/xgb-churn-prediction-model.tar.gz\", 'rb')\n",
    "s3_key = os.path.join(prefix, 'xgb-churn-prediction-model.tar.gz')\n",
    "boto3.Session().resource('s3').Bucket(bucket).Object(s3_key).upload_fileobj(model_file)\n",
    "print (\"location of model in s3: \", s3_key)"
   ]
  },
  {
   "cell_type": "markdown",
   "metadata": {},
   "source": [
    "### Deploy the model to Amazon SageMaker\n",
    "Start with deploying a pre-trained churn prediction model. Here, you create the model object with the image and model data."
   ]
  },
  {
   "cell_type": "code",
   "execution_count": 151,
   "metadata": {},
   "outputs": [],
   "source": [
    "### FOR MORE EXPLANATION, PLEASE REFERE TO DOCUMENTATION   \n",
    "###https://sagemaker.readthedocs.io/en/stable/model.html\n",
    "\n",
    "from time import gmtime, strftime\n",
    "from sagemaker.model import Model\n",
    "from sagemaker.amazon.amazon_estimator import get_image_uri\n",
    "\n",
    "model_name = \"DEMO-xgb-churn-pred-model-monitor-\" + strftime(\"%Y-%m-%d-%H-%M-%S\", gmtime())\n",
    "model_url = 'https://{}.s3-{}.amazonaws.com/{}/xgb-churn-prediction-model.tar.gz'.format(bucket, region, prefix)\n",
    "image_uri = get_image_uri(boto3.Session().region_name, 'xgboost', '0.90-1')\n",
    "\n",
    "model = Model(image=image_uri, model_data=model_url, role=role)"
   ]
  },
  {
   "cell_type": "markdown",
   "metadata": {},
   "source": [
    "To enable data capture for monitoring the model data quality, you specify the new capture option called `DataCaptureConfig`. You can capture the request payload, the response payload or both with this configuration. The capture config applies to all variants. Go ahead with the deployment."
   ]
  },
  {
   "cell_type": "code",
   "execution_count": 152,
   "metadata": {},
   "outputs": [
    {
     "name": "stdout",
     "output_type": "stream",
     "text": [
      "EndpointName=DEMO-xgb-churn-pred-model-monitor-2020-01-10-15-24-00\n",
      "---------------------------------------------------------------------------------------------------------------!"
     ]
    }
   ],
   "source": [
    "#### DataCaptureConfig structure and its arguments are defined in\n",
    "#### https://sagemaker.readthedocs.io/en/stable/amazon_sagemaker_model_monitoring.html\n",
    "\n",
    "from sagemaker.model_monitor import DataCaptureConfig\n",
    "\n",
    "endpoint_name = 'DEMO-xgb-churn-pred-model-monitor-' + strftime(\"%Y-%m-%d-%H-%M-%S\", gmtime())\n",
    "print(\"EndpointName={}\".format(endpoint_name))\n",
    "\n",
    "data_capture_config = DataCaptureConfig(\n",
    "                        enable_capture=True,\n",
    "                        sampling_percentage=100,\n",
    "                        destination_s3_uri=s3_capture_upload_path)\n",
    "tic=time.time()\n",
    "\n",
    "predictor = model.deploy(initial_instance_count=1,\n",
    "                instance_type='ml.m4.xlarge',\n",
    "                endpoint_name=endpoint_name,\n",
    "                data_capture_config=data_capture_config)"
   ]
  },
  {
   "cell_type": "code",
   "execution_count": 153,
   "metadata": {},
   "outputs": [
    {
     "name": "stdout",
     "output_type": "stream",
     "text": [
      "Time to deploy endpoint: 561.8428342342377\n"
     ]
    }
   ],
   "source": [
    "toc=time.time()\n",
    "print(\"Time to deploy endpoint: {}\".format(toc-tic))"
   ]
  },
  {
   "cell_type": "markdown",
   "metadata": {},
   "source": [
    "## Invoke the deployed model\n",
    "\n",
    "You can now send data to this endpoint to get inferences in real time. Because you enabled the data capture in the previous steps, the request and response payload, along with some additional metadata, is saved in the Amazon Simple Storage Service (Amazon S3) location you have specified in the DataCaptureConfig."
   ]
  },
  {
   "cell_type": "markdown",
   "metadata": {},
   "source": [
    "This step invokes the endpoint with included sample data for about 2 minutes. Data is captured based on the sampling percentage specified and the capture continues until the data capture option is turned off."
   ]
  },
  {
   "cell_type": "code",
   "execution_count": 155,
   "metadata": {},
   "outputs": [
    {
     "name": "stdout",
     "output_type": "stream",
     "text": [
      "Sending test traffic to the endpoint DEMO-xgb-churn-pred-model-monitor-2020-01-10-15-24-00. \n",
      "Please wait...\n",
      "Done!\n"
     ]
    }
   ],
   "source": [
    "from sagemaker.predictor import RealTimePredictor\n",
    "import time\n",
    "\n",
    "predictor = RealTimePredictor(endpoint=endpoint_name,content_type='text/csv')\n",
    "\n",
    "# get a subset of test data for a quick test\n",
    "!head -120 test_data/test-dataset-input-cols.csv > test_data/test_sample.csv\n",
    "print(\"Sending test traffic to the endpoint {}. \\nPlease wait...\".format(endpoint_name))\n",
    "\n",
    "with open('test_data/test_sample.csv', 'r') as f:\n",
    "    for row in f:\n",
    "        payload = row.rstrip('\\n')\n",
    "        response = predictor.predict(data=payload)\n",
    "        time.sleep(0.5)  #SE why is there a need for 0.5sec pause here?\n",
    "        \n",
    "print(\"Done!\")        "
   ]
  },
  {
   "cell_type": "markdown",
   "metadata": {},
   "source": [
    "## View captured data\n",
    "\n",
    "Now list the data capture files stored in Amazon S3. You should expect to see different files from different time periods organized based on the hour in which the invocation occurred. The format of the Amazon S3 path is:\n",
    "\n",
    "`s3://{destination-bucket-prefix}/{endpoint-name}/{variant-name}/yyyy/mm/dd/hh/filename.jsonl`"
   ]
  },
  {
   "cell_type": "markdown",
   "metadata": {},
   "source": [
    "### Often the cell below generates an error:\n",
    "    ---------------------------------------------------------------------------\n",
    "TypeError                                 Traceback (most recent call last)\n",
    "<ipython-input-14-9dc354b11722> in <module>()\n",
    "      2 current_endpoint_capture_prefix = '{}/{}'.format(data_capture_prefix, endpoint_name)\n",
    "      3 result = s3_client.list_objects(Bucket=bucket, Prefix=current_endpoint_capture_prefix)\n",
    "----> 4 capture_files = [capture_file.get(\"Key\") for capture_file in result.get('Contents')]\n",
    "      5 print(\"Found Capture Files:\")\n",
    "      6 print(\"\\n \".join(capture_files))\n",
    "\n",
    "TypeError: 'NoneType' object is not iterable\n",
    "\n",
    "The error is probably due to the fact that objects have not yet been uploaded to s3:\n",
    "If this happens, please, pause execution using time.sleep(5) or just rerun the cell manually"
   ]
  },
  {
   "cell_type": "code",
   "execution_count": 156,
   "metadata": {
    "scrolled": true
   },
   "outputs": [
    {
     "ename": "TypeError",
     "evalue": "'NoneType' object is not iterable",
     "output_type": "error",
     "traceback": [
      "\u001b[0;31m---------------------------------------------------------------------------\u001b[0m",
      "\u001b[0;31mTypeError\u001b[0m                                 Traceback (most recent call last)",
      "\u001b[0;32m<ipython-input-156-29d1dae1dd45>\u001b[0m in \u001b[0;36m<module>\u001b[0;34m()\u001b[0m\n\u001b[1;32m      3\u001b[0m \u001b[0mresult\u001b[0m \u001b[0;34m=\u001b[0m \u001b[0ms3_client\u001b[0m\u001b[0;34m.\u001b[0m\u001b[0mlist_objects\u001b[0m\u001b[0;34m(\u001b[0m\u001b[0mBucket\u001b[0m\u001b[0;34m=\u001b[0m\u001b[0mbucket\u001b[0m\u001b[0;34m,\u001b[0m \u001b[0mPrefix\u001b[0m\u001b[0;34m=\u001b[0m\u001b[0mcurrent_endpoint_capture_prefix\u001b[0m\u001b[0;34m)\u001b[0m\u001b[0;34m\u001b[0m\u001b[0m\n\u001b[1;32m      4\u001b[0m \u001b[0mtime\u001b[0m\u001b[0;34m.\u001b[0m\u001b[0msleep\u001b[0m\u001b[0;34m(\u001b[0m\u001b[0;36m5\u001b[0m\u001b[0;34m)\u001b[0m\u001b[0;34m\u001b[0m\u001b[0m\n\u001b[0;32m----> 5\u001b[0;31m \u001b[0mcapture_files\u001b[0m \u001b[0;34m=\u001b[0m \u001b[0;34m[\u001b[0m\u001b[0mcapture_file\u001b[0m\u001b[0;34m.\u001b[0m\u001b[0mget\u001b[0m\u001b[0;34m(\u001b[0m\u001b[0;34m\"Key\"\u001b[0m\u001b[0;34m)\u001b[0m \u001b[0;32mfor\u001b[0m \u001b[0mcapture_file\u001b[0m \u001b[0;32min\u001b[0m \u001b[0mresult\u001b[0m\u001b[0;34m.\u001b[0m\u001b[0mget\u001b[0m\u001b[0;34m(\u001b[0m\u001b[0;34m'Contents'\u001b[0m\u001b[0;34m)\u001b[0m\u001b[0;34m]\u001b[0m\u001b[0;34m\u001b[0m\u001b[0m\n\u001b[0m\u001b[1;32m      6\u001b[0m \u001b[0mprint\u001b[0m\u001b[0;34m(\u001b[0m\u001b[0;34m\"Found Capture Files:\"\u001b[0m\u001b[0;34m)\u001b[0m\u001b[0;34m\u001b[0m\u001b[0m\n\u001b[1;32m      7\u001b[0m \u001b[0mprint\u001b[0m\u001b[0;34m(\u001b[0m\u001b[0;34m\"\\n \"\u001b[0m\u001b[0;34m.\u001b[0m\u001b[0mjoin\u001b[0m\u001b[0;34m(\u001b[0m\u001b[0mcapture_files\u001b[0m\u001b[0;34m)\u001b[0m\u001b[0;34m)\u001b[0m\u001b[0;34m\u001b[0m\u001b[0m\n",
      "\u001b[0;31mTypeError\u001b[0m: 'NoneType' object is not iterable"
     ]
    }
   ],
   "source": [
    "s3_client = boto3.Session().client('s3')\n",
    "current_endpoint_capture_prefix = '{}/{}'.format(data_capture_prefix, endpoint_name)\n",
    "result = s3_client.list_objects(Bucket=bucket, Prefix=current_endpoint_capture_prefix)\n",
    "time.sleep(5)\n",
    "capture_files = [capture_file.get(\"Key\") for capture_file in result.get('Contents')]\n",
    "print(\"Found Capture Files:\")\n",
    "print(\"\\n \".join(capture_files))"
   ]
  },
  {
   "cell_type": "markdown",
   "metadata": {},
   "source": [
    "Next, view the contents of a single capture file. Here you should see all the data captured in an Amazon SageMaker specific JSON-line formatted file. Take a quick peek at the first few lines in the captured file."
   ]
  },
  {
   "cell_type": "code",
   "execution_count": null,
   "metadata": {},
   "outputs": [],
   "source": [
    "def get_obj_body(obj_key):\n",
    "    return s3_client.get_object(Bucket=bucket, Key=obj_key).get('Body').read().decode(\"utf-8\")\n",
    "\n",
    "capture_file = get_obj_body(capture_files[-1])\n",
    "print(capture_file[:2000])"
   ]
  },
  {
   "cell_type": "markdown",
   "metadata": {},
   "source": [
    "Finally, the contents of a single line is present below in a formatted JSON file so that you can observe a little better."
   ]
  },
  {
   "cell_type": "code",
   "execution_count": null,
   "metadata": {
    "scrolled": true
   },
   "outputs": [],
   "source": [
    "import json\n",
    "print(json.dumps(json.loads(capture_file.split('\\n')[0]), indent=2))"
   ]
  },
  {
   "cell_type": "markdown",
   "metadata": {},
   "source": [
    "As you can see, each inference request is captured in one line in the jsonl file. The line contains both the input and output merged together. In the example, you provided the ContentType as `text/csv` which is reflected in the `observedContentType` value. Also, you expose the encoding that you used to encode the input and output payloads in the capture format with the `encoding` value.\n",
    "\n",
    "To recap, you observed how you can enable capturing the input or output payloads to an endpoint with a new parameter. You have also observed what the captured format looks like in Amazon S3. Next, continue to explore how Amazon SageMaker helps with monitoring the data collected in Amazon S3."
   ]
  },
  {
   "cell_type": "markdown",
   "metadata": {},
   "source": [
    "# PART B: Model Monitor - Baseling and continuous monitoring"
   ]
  },
  {
   "cell_type": "markdown",
   "metadata": {},
   "source": [
    "In addition to collecting the data, Amazon SageMaker provides the capability for you to monitor and evaluate the data observed by the endpoints. For this:\n",
    "1. Create a baseline with which you compare the realtime traffic. \n",
    "1. Once a baseline is ready, setup a schedule to continously evaluate and compare against the baseline."
   ]
  },
  {
   "cell_type": "markdown",
   "metadata": {},
   "source": [
    "## 1. Constraint suggestion with baseline/training dataset"
   ]
  },
  {
   "cell_type": "markdown",
   "metadata": {},
   "source": [
    "The training dataset with which you trained the model is usually a good baseline dataset. Note that the training dataset data schema and the inference dataset schema should exactly match (i.e. the number and order of the features).\n",
    "\n",
    "From the training dataset you can ask Amazon SageMaker to suggest a set of baseline `constraints` and generate descriptive `statistics` to explore the data. For this example, upload the training dataset that was used to train the pre-trained model included in this example. If you already have it in Amazon S3, you can directly point to it."
   ]
  },
  {
   "cell_type": "code",
   "execution_count": null,
   "metadata": {},
   "outputs": [],
   "source": [
    "# copy over the training dataset to Amazon S3 (if you already have it in Amazon S3, you could reuse it)\n",
    "baseline_prefix = prefix + '/baselining'\n",
    "baseline_data_prefix = baseline_prefix + '/data'\n",
    "baseline_results_prefix = baseline_prefix + '/results'\n",
    "\n",
    "baseline_data_uri = 's3://{}/{}'.format(bucket,baseline_data_prefix)\n",
    "baseline_results_uri = 's3://{}/{}'.format(bucket, baseline_results_prefix)\n",
    "print('Baseline data uri: {}'.format(baseline_data_uri))\n",
    "print('Baseline results uri: {}'.format(baseline_results_uri))\n"
   ]
  },
  {
   "cell_type": "code",
   "execution_count": null,
   "metadata": {},
   "outputs": [],
   "source": [
    "training_data_file = open(\"test_data/training-dataset-with-header.csv\", 'rb')\n",
    "s3_key = os.path.join(baseline_prefix, 'data', 'training-dataset-with-header.csv')\n",
    "boto3.Session().resource('s3').Bucket(bucket).Object(s3_key).upload_fileobj(training_data_file)\n",
    "print(s3_key)"
   ]
  },
  {
   "cell_type": "markdown",
   "metadata": {},
   "source": [
    "### Create a baselining job with training dataset"
   ]
  },
  {
   "cell_type": "markdown",
   "metadata": {},
   "source": [
    "Now that you have the training data ready in Amazon S3, start a job to `suggest` constraints. `DefaultModelMonitor.suggest_baseline(..)` starts a `ProcessingJob` using an Amazon SageMaker provided Model Monitor container to generate the constraints."
   ]
  },
  {
   "cell_type": "code",
   "execution_count": null,
   "metadata": {},
   "outputs": [],
   "source": [
    "from sagemaker.model_monitor import DefaultModelMonitor\n",
    "from sagemaker.model_monitor.dataset_format import DatasetFormat\n",
    "\n",
    "my_default_monitor = DefaultModelMonitor(\n",
    "    role=role,\n",
    "    instance_count=1,\n",
    "    instance_type='ml.m5.xlarge',\n",
    "    volume_size_in_gb=20,\n",
    "    max_runtime_in_seconds=3600,\n",
    ")\n",
    "\n",
    "my_default_monitor.suggest_baseline(\n",
    "    baseline_dataset=baseline_data_uri+'/training-dataset-with-header.csv',\n",
    "    dataset_format=DatasetFormat.csv(header=True),\n",
    "    output_s3_uri=baseline_results_uri,\n",
    "    wait=True\n",
    ")"
   ]
  },
  {
   "cell_type": "markdown",
   "metadata": {},
   "source": [
    "### Explore the generated constraints and statistics"
   ]
  },
  {
   "cell_type": "code",
   "execution_count": null,
   "metadata": {},
   "outputs": [],
   "source": [
    "s3_client = boto3.Session().client('s3')\n",
    "result = s3_client.list_objects(Bucket=bucket, Prefix=baseline_results_prefix)\n",
    "report_files = [report_file.get(\"Key\") for report_file in result.get('Contents')]\n",
    "print(\"Found Files:\")\n",
    "print(\"\\n \".join(report_files))"
   ]
  },
  {
   "cell_type": "markdown",
   "metadata": {},
   "source": [
    "\n",
    "#### Compute feature statistics using Deequ, an open source tool based on Apache Spark that is developed and used at Amazon (blog post and research paper). These statistics include KLL sketches, an advanced technique to compute accurate quantiles on streams of data, that we recently contributed to Deequ.\n",
    "https://aws.amazon.com/blogs/aws/amazon-sagemaker-model-monitor-fully-managed-automatic-monitoring-for-your-machine-learning-models/"
   ]
  },
  {
   "cell_type": "code",
   "execution_count": null,
   "metadata": {},
   "outputs": [],
   "source": [
    "import pandas as pd\n",
    "\n",
    "baseline_job = my_default_monitor.latest_baselining_job\n",
    "schema_df = pd.io.json.json_normalize(baseline_job.baseline_statistics().body_dict[\"features\"])\n",
    "# 'features' is an keyname of body_dict dictionary containing the statistics of a baseline job.\n",
    "schema_df.head(10)"
   ]
  },
  {
   "cell_type": "code",
   "execution_count": null,
   "metadata": {},
   "outputs": [],
   "source": [
    "constraints_df = pd.io.json.json_normalize(baseline_job.suggested_constraints().body_dict[\"features\"])\n",
    "constraints_df.head(10)"
   ]
  },
  {
   "cell_type": "markdown",
   "metadata": {},
   "source": [
    "## 2. Analyzing collected data for data quality issues\n",
    "\n",
    "When you have collected the data above, analyze and monitor the data with Monitoring Schedules"
   ]
  },
  {
   "cell_type": "markdown",
   "metadata": {},
   "source": [
    "### Create a schedule"
   ]
  },
  {
   "cell_type": "code",
   "execution_count": null,
   "metadata": {},
   "outputs": [],
   "source": [
    "# First, copy over some test scripts to the S3 bucket so that they can be used for pre and post processing\n",
    "boto3.Session().resource('s3').Bucket(bucket).Object(code_prefix+\"/preprocessor.py\").upload_file('preprocessor.py')\n",
    "boto3.Session().resource('s3').Bucket(bucket).Object(code_prefix+\"/postprocessor.py\").upload_file('postprocessor.py')"
   ]
  },
  {
   "cell_type": "markdown",
   "metadata": {},
   "source": [
    "You can create a model monitoring schedule for the endpoint created earlier. Use the baseline resources (constraints and statistics) to compare against the realtime traffic."
   ]
  },
  {
   "cell_type": "markdown",
   "metadata": {},
   "source": [
    "#### Currently, Amazon SageMaker only supports hourly integer rates between 1 hour and 24 hours: \n",
    "https://docs.aws.amazon.com/sagemaker/latest/dg/model-monitor-schedule-expression.html"
   ]
  },
  {
   "cell_type": "code",
   "execution_count": null,
   "metadata": {},
   "outputs": [],
   "source": [
    "from sagemaker.model_monitor import CronExpressionGenerator\n",
    "from time import gmtime, strftime\n",
    "\n",
    "mon_schedule_name = 'DEMO-xgb-churn-pred-model-monitor-schedule-' + strftime(\"%Y-%m-%d-%H-%M-%S\", gmtime())\n",
    "my_default_monitor.create_monitoring_schedule(\n",
    "    monitor_schedule_name=mon_schedule_name,\n",
    "    endpoint_input=predictor.endpoint,\n",
    "    #record_preprocessor_script=pre_processor_script,\n",
    "    post_analytics_processor_script=s3_code_postprocessor_uri,\n",
    "    output_s3_uri=s3_report_path,\n",
    "    statistics=my_default_monitor.baseline_statistics(),\n",
    "    constraints=my_default_monitor.suggested_constraints(),\n",
    "    schedule_cron_expression=CronExpressionGenerator.hourly(),\n",
    "    enable_cloudwatch_metrics=True,\n",
    "\n",
    ")"
   ]
  },
  {
   "cell_type": "markdown",
   "metadata": {},
   "source": [
    "### Start generating some artificial traffic\n",
    "The cell below starts a thread to send some traffic to the endpoint. Note that you need to stop the kernel to terminate this thread. If there is no traffic, the monitoring jobs are marked as `Failed` since there is no data to process."
   ]
  },
  {
   "cell_type": "code",
   "execution_count": null,
   "metadata": {},
   "outputs": [],
   "source": [
    "from threading import Thread\n",
    "from time import sleep\n",
    "import time\n",
    "\n",
    "endpoint_name=predictor.endpoint\n",
    "runtime_client = boto3.client('runtime.sagemaker')\n",
    "\n",
    "# (just repeating code from above for convenience/ able to run this section independently)\n",
    "def invoke_endpoint(ep_name, file_name, runtime_client):\n",
    "    with open(file_name, 'r') as f:\n",
    "        for row in f:\n",
    "            payload = row.rstrip('\\n')\n",
    "            response = runtime_client.invoke_endpoint(EndpointName=ep_name,\n",
    "                                          ContentType='text/csv', \n",
    "                                          Body=payload)\n",
    "            time.sleep(1)\n",
    "            \n",
    "def invoke_endpoint_forever():\n",
    "    while True:\n",
    "        invoke_endpoint(endpoint_name, 'test_data/test-dataset-input-cols.csv', runtime_client)\n",
    "        \n",
    "thread = Thread(target = invoke_endpoint_forever)\n",
    "thread.start()\n",
    "\n",
    "# Note that you need to stop the kernel to stop the invocations"
   ]
  },
  {
   "cell_type": "markdown",
   "metadata": {},
   "source": [
    "### Describe and inspect the schedule\n",
    "Once you describe, observe that the MonitoringScheduleStatus changes to Scheduled."
   ]
  },
  {
   "cell_type": "code",
   "execution_count": null,
   "metadata": {},
   "outputs": [],
   "source": [
    "desc_schedule_result = my_default_monitor.describe_schedule()\n",
    "print('Schedule status: {}'.format(desc_schedule_result['MonitoringScheduleStatus']))"
   ]
  },
  {
   "cell_type": "markdown",
   "metadata": {},
   "source": [
    "### List executions\n",
    "The schedule starts jobs at the previously specified intervals. Here, you list the latest five executions. Note that if you are kicking this off after creating the hourly schedule, you might find the executions empty. You might have to wait until you cross the hour boundary (in UTC) to see executions kick off. The code below has the logic for waiting.\n",
    "\n",
    "Note: Even for an hourly schedule, Amazon SageMaker has a buffer period of 20 minutes to schedule your execution. You might see your execution start in anywhere from zero to ~20 minutes from the hour boundary. This is expected and done for load balancing in the backend."
   ]
  },
  {
   "cell_type": "code",
   "execution_count": null,
   "metadata": {},
   "outputs": [],
   "source": [
    "mon_executions = my_default_monitor.list_executions()\n",
    "print(\"We created a hourly schedule above and it will kick off executions ON the hour (plus 0 - 20 min buffer.\\nWe will have to wait till we hit the hour...\")\n",
    "\n",
    "while len(mon_executions) == 0:\n",
    "    print(\"Waiting for the 1st execution to happen...\")\n",
    "    time.sleep(60)\n",
    "    mon_executions = my_default_monitor.list_executions()    "
   ]
  },
  {
   "cell_type": "code",
   "execution_count": 144,
   "metadata": {},
   "outputs": [
    {
     "name": "stdout",
     "output_type": "stream",
     "text": [
      "1\n",
      "dict_keys(['MonitoringScheduleArn', 'MonitoringScheduleName', 'MonitoringScheduleStatus', 'CreationTime', 'LastModifiedTime', 'MonitoringScheduleConfig', 'EndpointName', 'LastMonitoringExecutionSummary', 'ResponseMetadata'])\n",
      "arn:aws:sagemaker:us-east-1:328296961357:processing-job/model-monitoring-202001060000-68b8671a7de08aadc96d70bf\n"
     ]
    }
   ],
   "source": [
    "print(len(mon_executions))\n",
    "#type(desc_schedule_result)\n",
    "print(desc_schedule_result.keys())\n",
    "#print(desc_schedule_result)\n",
    "\n",
    "print(desc_schedule_result['LastMonitoringExecutionSummary']['ProcessingJobArn'])"
   ]
  },
  {
   "cell_type": "markdown",
   "metadata": {},
   "source": [
    "### Inspect a specific execution (latest execution)\n",
    "In the previous cell, you picked up the latest completed or failed scheduled execution. Here are the possible terminal states and what each of them mean: \n",
    "* Completed - This means the monitoring execution completed and no issues were found in the violations report.\n",
    "* CompletedWithViolations - This means the execution completed, but constraint violations were detected.\n",
    "* Failed - The monitoring execution failed, maybe due to client error (perhaps incorrect role premissions) or infrastructure issues. Further examination of FailureReason and ExitMessage is necessary to identify what exactly happened.\n",
    "* Stopped - job exceeded max runtime or was manually stopped."
   ]
  },
  {
   "cell_type": "code",
   "execution_count": 145,
   "metadata": {},
   "outputs": [
    {
     "name": "stdout",
     "output_type": "stream",
     "text": [
      "!Latest execution status: Completed\n",
      "Latest execution result: CompletedWithViolations: Job completed successfully with 60 violations.\n"
     ]
    }
   ],
   "source": [
    "latest_execution = mon_executions[-1] # latest execution's index is -1, second to last is -2 and so on..\n",
    "time.sleep(60)\n",
    "latest_execution.wait(logs=False)\n",
    "\n",
    "print(\"Latest execution status: {}\".format(latest_execution.describe()['ProcessingJobStatus']))\n",
    "print(\"Latest execution result: {}\".format(latest_execution.describe()['ExitMessage']))\n",
    "\n",
    "latest_job = latest_execution.describe()\n",
    "if (latest_job['ProcessingJobStatus'] != 'Completed'):\n",
    "        print(\"====STOP==== \\n No completed executions to inspect further. Please wait till an execution completes or investigate previously reported failures.\")"
   ]
  },
  {
   "cell_type": "code",
   "execution_count": 141,
   "metadata": {},
   "outputs": [
    {
     "name": "stdout",
     "output_type": "stream",
     "text": [
      "Processing Job ARN: arn:aws:sagemaker:us-east-1:328296961357:processing-job/model-monitoring-202001060000-68b8671a7de08aadc96d70bf\n"
     ]
    }
   ],
   "source": [
    "print(\"Processing Job ARN: {}\".format(latest_job['ProcessingJobArn']))"
   ]
  },
  {
   "cell_type": "code",
   "execution_count": 120,
   "metadata": {},
   "outputs": [
    {
     "name": "stdout",
     "output_type": "stream",
     "text": [
      "Report Uri: s3://sagemaker-us-east-1-328296961357/sagemaker/ModelMonitor-1/DEMO-ModelMonitor/reports/DEMO-xgb-churn-pred-model-monitor-2020-01-05-22-42-49/DEMO-xgb-churn-pred-model-monitor-schedule-2020-01-05-23-14-07/2020/01/06/00\n"
     ]
    }
   ],
   "source": [
    "report_uri=latest_execution.output.destination\n",
    "print('Report Uri: {}'.format(report_uri))"
   ]
  },
  {
   "cell_type": "markdown",
   "metadata": {},
   "source": [
    "### List the generated reports"
   ]
  },
  {
   "cell_type": "code",
   "execution_count": 121,
   "metadata": {},
   "outputs": [
    {
     "name": "stdout",
     "output_type": "stream",
     "text": [
      "Report bucket: sagemaker-us-east-1-328296961357\n",
      "Report key: sagemaker/ModelMonitor-1/DEMO-ModelMonitor/reports/DEMO-xgb-churn-pred-model-monitor-2020-01-05-22-42-49/DEMO-xgb-churn-pred-model-monitor-schedule-2020-01-05-23-14-07/2020/01/06/00\n",
      "Found Report Files:\n",
      "sagemaker/ModelMonitor-1/DEMO-ModelMonitor/reports/DEMO-xgb-churn-pred-model-monitor-2020-01-05-22-42-49/DEMO-xgb-churn-pred-model-monitor-schedule-2020-01-05-23-14-07/2020/01/06/00/constraint_violations.json\n",
      " sagemaker/ModelMonitor-1/DEMO-ModelMonitor/reports/DEMO-xgb-churn-pred-model-monitor-2020-01-05-22-42-49/DEMO-xgb-churn-pred-model-monitor-schedule-2020-01-05-23-14-07/2020/01/06/00/constraints.json\n",
      " sagemaker/ModelMonitor-1/DEMO-ModelMonitor/reports/DEMO-xgb-churn-pred-model-monitor-2020-01-05-22-42-49/DEMO-xgb-churn-pred-model-monitor-schedule-2020-01-05-23-14-07/2020/01/06/00/statistics.json\n"
     ]
    }
   ],
   "source": [
    "from urllib.parse import urlparse\n",
    "s3uri = urlparse(report_uri)\n",
    "report_bucket = s3uri.netloc\n",
    "report_key = s3uri.path.lstrip('/')\n",
    "print('Report bucket: {}'.format(report_bucket))\n",
    "print('Report key: {}'.format(report_key))\n",
    "\n",
    "s3_client = boto3.Session().client('s3')\n",
    "result = s3_client.list_objects(Bucket=report_bucket, Prefix=report_key)\n",
    "report_files = [report_file.get(\"Key\") for report_file in result.get('Contents')]\n",
    "print(\"Found Report Files:\")\n",
    "print(\"\\n \".join(report_files))"
   ]
  },
  {
   "cell_type": "markdown",
   "metadata": {},
   "source": [
    "### Violations report"
   ]
  },
  {
   "cell_type": "markdown",
   "metadata": {},
   "source": [
    "If there are any violations compared to the baseline, they will be listed here."
   ]
  },
  {
   "cell_type": "code",
   "execution_count": 123,
   "metadata": {},
   "outputs": [
    {
     "data": {
      "text/html": [
       "<div>\n",
       "<style scoped>\n",
       "    .dataframe tbody tr th:only-of-type {\n",
       "        vertical-align: middle;\n",
       "    }\n",
       "\n",
       "    .dataframe tbody tr th {\n",
       "        vertical-align: top;\n",
       "    }\n",
       "\n",
       "    .dataframe thead th {\n",
       "        text-align: right;\n",
       "    }\n",
       "</style>\n",
       "<table border=\"1\" class=\"dataframe\">\n",
       "  <thead>\n",
       "    <tr style=\"text-align: right;\">\n",
       "      <th></th>\n",
       "      <th>constraint_check_type</th>\n",
       "      <th>description</th>\n",
       "      <th>feature_name</th>\n",
       "    </tr>\n",
       "  </thead>\n",
       "  <tbody>\n",
       "    <tr>\n",
       "      <th>0</th>\n",
       "      <td>data_type_check</td>\n",
       "      <td>Data type match requirement is not met. Expected data type: Integral, Expected match: 100.0%. Observed: Only 99.66679007774898% of data is Integral.</td>\n",
       "      <td>Int'l Plan_no</td>\n",
       "    </tr>\n",
       "    <tr>\n",
       "      <th>1</th>\n",
       "      <td>data_type_check</td>\n",
       "      <td>Data type match requirement is not met. Expected data type: Integral, Expected match: 100.0%. Observed: Only 99.66679007774898% of data is Integral.</td>\n",
       "      <td>State_MA</td>\n",
       "    </tr>\n",
       "    <tr>\n",
       "      <th>2</th>\n",
       "      <td>data_type_check</td>\n",
       "      <td>Data type match requirement is not met. Expected data type: Integral, Expected match: 100.0%. Observed: Only 99.66679007774898% of data is Integral.</td>\n",
       "      <td>State_KY</td>\n",
       "    </tr>\n",
       "    <tr>\n",
       "      <th>3</th>\n",
       "      <td>data_type_check</td>\n",
       "      <td>Data type match requirement is not met. Expected data type: Integral, Expected match: 100.0%. Observed: Only 99.66679007774898% of data is Integral.</td>\n",
       "      <td>State_AR</td>\n",
       "    </tr>\n",
       "    <tr>\n",
       "      <th>4</th>\n",
       "      <td>data_type_check</td>\n",
       "      <td>Data type match requirement is not met. Expected data type: Integral, Expected match: 100.0%. Observed: Only 99.66679007774898% of data is Integral.</td>\n",
       "      <td>VMail Plan_no</td>\n",
       "    </tr>\n",
       "    <tr>\n",
       "      <th>5</th>\n",
       "      <td>data_type_check</td>\n",
       "      <td>Data type match requirement is not met. Expected data type: Integral, Expected match: 100.0%. Observed: Only 99.66679007774898% of data is Integral.</td>\n",
       "      <td>State_MI</td>\n",
       "    </tr>\n",
       "    <tr>\n",
       "      <th>6</th>\n",
       "      <td>data_type_check</td>\n",
       "      <td>Data type match requirement is not met. Expected data type: Integral, Expected match: 100.0%. Observed: Only 99.66679007774898% of data is Integral.</td>\n",
       "      <td>State_SD</td>\n",
       "    </tr>\n",
       "    <tr>\n",
       "      <th>7</th>\n",
       "      <td>data_type_check</td>\n",
       "      <td>Data type match requirement is not met. Expected data type: Integral, Expected match: 100.0%. Observed: Only 99.66679007774898% of data is Integral.</td>\n",
       "      <td>State_IA</td>\n",
       "    </tr>\n",
       "    <tr>\n",
       "      <th>8</th>\n",
       "      <td>data_type_check</td>\n",
       "      <td>Data type match requirement is not met. Expected data type: Integral, Expected match: 100.0%. Observed: Only 99.66679007774898% of data is Integral.</td>\n",
       "      <td>State_OH</td>\n",
       "    </tr>\n",
       "    <tr>\n",
       "      <th>9</th>\n",
       "      <td>data_type_check</td>\n",
       "      <td>Data type match requirement is not met. Expected data type: Integral, Expected match: 100.0%. Observed: Only 99.66679007774898% of data is Integral.</td>\n",
       "      <td>State_NH</td>\n",
       "    </tr>\n",
       "    <tr>\n",
       "      <th>10</th>\n",
       "      <td>data_type_check</td>\n",
       "      <td>Data type match requirement is not met. Expected data type: Integral, Expected match: 100.0%. Observed: Only 99.66679007774898% of data is Integral.</td>\n",
       "      <td>State_VT</td>\n",
       "    </tr>\n",
       "    <tr>\n",
       "      <th>11</th>\n",
       "      <td>data_type_check</td>\n",
       "      <td>Data type match requirement is not met. Expected data type: Integral, Expected match: 100.0%. Observed: Only 99.66679007774898% of data is Integral.</td>\n",
       "      <td>State_NJ</td>\n",
       "    </tr>\n",
       "    <tr>\n",
       "      <th>12</th>\n",
       "      <td>data_type_check</td>\n",
       "      <td>Data type match requirement is not met. Expected data type: Integral, Expected match: 100.0%. Observed: Only 99.66679007774898% of data is Integral.</td>\n",
       "      <td>State_WA</td>\n",
       "    </tr>\n",
       "    <tr>\n",
       "      <th>13</th>\n",
       "      <td>data_type_check</td>\n",
       "      <td>Data type match requirement is not met. Expected data type: Integral, Expected match: 100.0%. Observed: Only 99.66679007774898% of data is Integral.</td>\n",
       "      <td>State_AZ</td>\n",
       "    </tr>\n",
       "    <tr>\n",
       "      <th>14</th>\n",
       "      <td>data_type_check</td>\n",
       "      <td>Data type match requirement is not met. Expected data type: Integral, Expected match: 100.0%. Observed: Only 99.66679007774898% of data is Integral.</td>\n",
       "      <td>State_KS</td>\n",
       "    </tr>\n",
       "    <tr>\n",
       "      <th>15</th>\n",
       "      <td>data_type_check</td>\n",
       "      <td>Data type match requirement is not met. Expected data type: Integral, Expected match: 100.0%. Observed: Only 99.66679007774898% of data is Integral.</td>\n",
       "      <td>Area Code_510</td>\n",
       "    </tr>\n",
       "    <tr>\n",
       "      <th>16</th>\n",
       "      <td>data_type_check</td>\n",
       "      <td>Data type match requirement is not met. Expected data type: Integral, Expected match: 100.0%. Observed: Only 99.66679007774898% of data is Integral.</td>\n",
       "      <td>State_MT</td>\n",
       "    </tr>\n",
       "    <tr>\n",
       "      <th>17</th>\n",
       "      <td>data_type_check</td>\n",
       "      <td>Data type match requirement is not met. Expected data type: Integral, Expected match: 100.0%. Observed: Only 99.66679007774898% of data is Integral.</td>\n",
       "      <td>State_MD</td>\n",
       "    </tr>\n",
       "    <tr>\n",
       "      <th>18</th>\n",
       "      <td>data_type_check</td>\n",
       "      <td>Data type match requirement is not met. Expected data type: Integral, Expected match: 100.0%. Observed: Only 99.66679007774898% of data is Integral.</td>\n",
       "      <td>State_GA</td>\n",
       "    </tr>\n",
       "    <tr>\n",
       "      <th>19</th>\n",
       "      <td>data_type_check</td>\n",
       "      <td>Data type match requirement is not met. Expected data type: Integral, Expected match: 100.0%. Observed: Only 99.66679007774898% of data is Integral.</td>\n",
       "      <td>State_NY</td>\n",
       "    </tr>\n",
       "    <tr>\n",
       "      <th>20</th>\n",
       "      <td>data_type_check</td>\n",
       "      <td>Data type match requirement is not met. Expected data type: Integral, Expected match: 100.0%. Observed: Only 99.66679007774898% of data is Integral.</td>\n",
       "      <td>VMail Message</td>\n",
       "    </tr>\n",
       "    <tr>\n",
       "      <th>21</th>\n",
       "      <td>data_type_check</td>\n",
       "      <td>Data type match requirement is not met. Expected data type: Integral, Expected match: 100.0%. Observed: Only 99.66679007774898% of data is Integral.</td>\n",
       "      <td>State_MO</td>\n",
       "    </tr>\n",
       "    <tr>\n",
       "      <th>22</th>\n",
       "      <td>data_type_check</td>\n",
       "      <td>Data type match requirement is not met. Expected data type: Integral, Expected match: 100.0%. Observed: Only 99.66679007774898% of data is Integral.</td>\n",
       "      <td>State_OR</td>\n",
       "    </tr>\n",
       "    <tr>\n",
       "      <th>23</th>\n",
       "      <td>data_type_check</td>\n",
       "      <td>Data type match requirement is not met. Expected data type: Integral, Expected match: 100.0%. Observed: Only 99.66679007774898% of data is Integral.</td>\n",
       "      <td>State_FL</td>\n",
       "    </tr>\n",
       "    <tr>\n",
       "      <th>24</th>\n",
       "      <td>data_type_check</td>\n",
       "      <td>Data type match requirement is not met. Expected data type: Integral, Expected match: 100.0%. Observed: Only 99.66679007774898% of data is Integral.</td>\n",
       "      <td>State_ND</td>\n",
       "    </tr>\n",
       "    <tr>\n",
       "      <th>25</th>\n",
       "      <td>data_type_check</td>\n",
       "      <td>Data type match requirement is not met. Expected data type: Integral, Expected match: 100.0%. Observed: Only 99.66679007774898% of data is Integral.</td>\n",
       "      <td>State_UT</td>\n",
       "    </tr>\n",
       "    <tr>\n",
       "      <th>26</th>\n",
       "      <td>data_type_check</td>\n",
       "      <td>Data type match requirement is not met. Expected data type: Integral, Expected match: 100.0%. Observed: Only 99.66679007774898% of data is Integral.</td>\n",
       "      <td>State_WV</td>\n",
       "    </tr>\n",
       "    <tr>\n",
       "      <th>27</th>\n",
       "      <td>data_type_check</td>\n",
       "      <td>Data type match requirement is not met. Expected data type: Integral, Expected match: 100.0%. Observed: Only 99.66679007774898% of data is Integral.</td>\n",
       "      <td>Area Code_415</td>\n",
       "    </tr>\n",
       "    <tr>\n",
       "      <th>28</th>\n",
       "      <td>data_type_check</td>\n",
       "      <td>Data type match requirement is not met. Expected data type: Integral, Expected match: 100.0%. Observed: Only 0.0% of data is Integral.</td>\n",
       "      <td>Churn</td>\n",
       "    </tr>\n",
       "    <tr>\n",
       "      <th>29</th>\n",
       "      <td>data_type_check</td>\n",
       "      <td>Data type match requirement is not met. Expected data type: Integral, Expected match: 100.0%. Observed: Only 99.66679007774898% of data is Integral.</td>\n",
       "      <td>State_ME</td>\n",
       "    </tr>\n",
       "    <tr>\n",
       "      <th>30</th>\n",
       "      <td>data_type_check</td>\n",
       "      <td>Data type match requirement is not met. Expected data type: Integral, Expected match: 100.0%. Observed: Only 99.66679007774898% of data is Integral.</td>\n",
       "      <td>State_NC</td>\n",
       "    </tr>\n",
       "    <tr>\n",
       "      <th>31</th>\n",
       "      <td>data_type_check</td>\n",
       "      <td>Data type match requirement is not met. Expected data type: Integral, Expected match: 100.0%. Observed: Only 99.66679007774898% of data is Integral.</td>\n",
       "      <td>State_LA</td>\n",
       "    </tr>\n",
       "    <tr>\n",
       "      <th>32</th>\n",
       "      <td>data_type_check</td>\n",
       "      <td>Data type match requirement is not met. Expected data type: Integral, Expected match: 100.0%. Observed: Only 99.66679007774898% of data is Integral.</td>\n",
       "      <td>State_IL</td>\n",
       "    </tr>\n",
       "    <tr>\n",
       "      <th>33</th>\n",
       "      <td>data_type_check</td>\n",
       "      <td>Data type match requirement is not met. Expected data type: Integral, Expected match: 100.0%. Observed: Only 99.66679007774898% of data is Integral.</td>\n",
       "      <td>State_PA</td>\n",
       "    </tr>\n",
       "    <tr>\n",
       "      <th>34</th>\n",
       "      <td>data_type_check</td>\n",
       "      <td>Data type match requirement is not met. Expected data type: Integral, Expected match: 100.0%. Observed: Only 99.66679007774898% of data is Integral.</td>\n",
       "      <td>State_TX</td>\n",
       "    </tr>\n",
       "    <tr>\n",
       "      <th>35</th>\n",
       "      <td>data_type_check</td>\n",
       "      <td>Data type match requirement is not met. Expected data type: Integral, Expected match: 100.0%. Observed: Only 99.66679007774898% of data is Integral.</td>\n",
       "      <td>State_SC</td>\n",
       "    </tr>\n",
       "    <tr>\n",
       "      <th>36</th>\n",
       "      <td>data_type_check</td>\n",
       "      <td>Data type match requirement is not met. Expected data type: Integral, Expected match: 100.0%. Observed: Only 99.66679007774898% of data is Integral.</td>\n",
       "      <td>Area Code_408</td>\n",
       "    </tr>\n",
       "    <tr>\n",
       "      <th>37</th>\n",
       "      <td>data_type_check</td>\n",
       "      <td>Data type match requirement is not met. Expected data type: Integral, Expected match: 100.0%. Observed: Only 99.66679007774898% of data is Integral.</td>\n",
       "      <td>State_OK</td>\n",
       "    </tr>\n",
       "    <tr>\n",
       "      <th>38</th>\n",
       "      <td>data_type_check</td>\n",
       "      <td>Data type match requirement is not met. Expected data type: Integral, Expected match: 100.0%. Observed: Only 99.66679007774898% of data is Integral.</td>\n",
       "      <td>State_CT</td>\n",
       "    </tr>\n",
       "    <tr>\n",
       "      <th>39</th>\n",
       "      <td>data_type_check</td>\n",
       "      <td>Data type match requirement is not met. Expected data type: Integral, Expected match: 100.0%. Observed: Only 99.66679007774898% of data is Integral.</td>\n",
       "      <td>State_NE</td>\n",
       "    </tr>\n",
       "    <tr>\n",
       "      <th>40</th>\n",
       "      <td>data_type_check</td>\n",
       "      <td>Data type match requirement is not met. Expected data type: Integral, Expected match: 100.0%. Observed: Only 99.66679007774898% of data is Integral.</td>\n",
       "      <td>State_NM</td>\n",
       "    </tr>\n",
       "    <tr>\n",
       "      <th>41</th>\n",
       "      <td>data_type_check</td>\n",
       "      <td>Data type match requirement is not met. Expected data type: Integral, Expected match: 100.0%. Observed: Only 99.66679007774898% of data is Integral.</td>\n",
       "      <td>State_CO</td>\n",
       "    </tr>\n",
       "    <tr>\n",
       "      <th>42</th>\n",
       "      <td>data_type_check</td>\n",
       "      <td>Data type match requirement is not met. Expected data type: Integral, Expected match: 100.0%. Observed: Only 99.66679007774898% of data is Integral.</td>\n",
       "      <td>State_CA</td>\n",
       "    </tr>\n",
       "    <tr>\n",
       "      <th>43</th>\n",
       "      <td>data_type_check</td>\n",
       "      <td>Data type match requirement is not met. Expected data type: Integral, Expected match: 100.0%. Observed: Only 99.66679007774898% of data is Integral.</td>\n",
       "      <td>State_MS</td>\n",
       "    </tr>\n",
       "    <tr>\n",
       "      <th>44</th>\n",
       "      <td>data_type_check</td>\n",
       "      <td>Data type match requirement is not met. Expected data type: Integral, Expected match: 100.0%. Observed: Only 99.66679007774898% of data is Integral.</td>\n",
       "      <td>State_WI</td>\n",
       "    </tr>\n",
       "    <tr>\n",
       "      <th>45</th>\n",
       "      <td>data_type_check</td>\n",
       "      <td>Data type match requirement is not met. Expected data type: Integral, Expected match: 100.0%. Observed: Only 99.66679007774898% of data is Integral.</td>\n",
       "      <td>State_VA</td>\n",
       "    </tr>\n",
       "    <tr>\n",
       "      <th>46</th>\n",
       "      <td>data_type_check</td>\n",
       "      <td>Data type match requirement is not met. Expected data type: Integral, Expected match: 100.0%. Observed: Only 99.66679007774898% of data is Integral.</td>\n",
       "      <td>State_DC</td>\n",
       "    </tr>\n",
       "    <tr>\n",
       "      <th>47</th>\n",
       "      <td>data_type_check</td>\n",
       "      <td>Data type match requirement is not met. Expected data type: Integral, Expected match: 100.0%. Observed: Only 99.66679007774898% of data is Integral.</td>\n",
       "      <td>VMail Plan_yes</td>\n",
       "    </tr>\n",
       "    <tr>\n",
       "      <th>48</th>\n",
       "      <td>data_type_check</td>\n",
       "      <td>Data type match requirement is not met. Expected data type: Integral, Expected match: 100.0%. Observed: Only 99.66679007774898% of data is Integral.</td>\n",
       "      <td>State_TN</td>\n",
       "    </tr>\n",
       "    <tr>\n",
       "      <th>49</th>\n",
       "      <td>data_type_check</td>\n",
       "      <td>Data type match requirement is not met. Expected data type: Integral, Expected match: 100.0%. Observed: Only 99.66679007774898% of data is Integral.</td>\n",
       "      <td>State_AL</td>\n",
       "    </tr>\n",
       "    <tr>\n",
       "      <th>50</th>\n",
       "      <td>data_type_check</td>\n",
       "      <td>Data type match requirement is not met. Expected data type: Integral, Expected match: 100.0%. Observed: Only 99.66679007774898% of data is Integral.</td>\n",
       "      <td>State_IN</td>\n",
       "    </tr>\n",
       "    <tr>\n",
       "      <th>51</th>\n",
       "      <td>data_type_check</td>\n",
       "      <td>Data type match requirement is not met. Expected data type: Integral, Expected match: 100.0%. Observed: Only 99.66679007774898% of data is Integral.</td>\n",
       "      <td>State_AK</td>\n",
       "    </tr>\n",
       "    <tr>\n",
       "      <th>52</th>\n",
       "      <td>data_type_check</td>\n",
       "      <td>Data type match requirement is not met. Expected data type: Integral, Expected match: 100.0%. Observed: Only 99.66679007774898% of data is Integral.</td>\n",
       "      <td>State_RI</td>\n",
       "    </tr>\n",
       "    <tr>\n",
       "      <th>53</th>\n",
       "      <td>data_type_check</td>\n",
       "      <td>Data type match requirement is not met. Expected data type: Integral, Expected match: 100.0%. Observed: Only 99.66679007774898% of data is Integral.</td>\n",
       "      <td>Int'l Plan_yes</td>\n",
       "    </tr>\n",
       "    <tr>\n",
       "      <th>54</th>\n",
       "      <td>data_type_check</td>\n",
       "      <td>Data type match requirement is not met. Expected data type: Integral, Expected match: 100.0%. Observed: Only 99.66679007774898% of data is Integral.</td>\n",
       "      <td>State_ID</td>\n",
       "    </tr>\n",
       "    <tr>\n",
       "      <th>55</th>\n",
       "      <td>data_type_check</td>\n",
       "      <td>Data type match requirement is not met. Expected data type: Integral, Expected match: 100.0%. Observed: Only 99.66679007774898% of data is Integral.</td>\n",
       "      <td>State_DE</td>\n",
       "    </tr>\n",
       "    <tr>\n",
       "      <th>56</th>\n",
       "      <td>data_type_check</td>\n",
       "      <td>Data type match requirement is not met. Expected data type: Integral, Expected match: 100.0%. Observed: Only 99.66679007774898% of data is Integral.</td>\n",
       "      <td>State_HI</td>\n",
       "    </tr>\n",
       "    <tr>\n",
       "      <th>57</th>\n",
       "      <td>data_type_check</td>\n",
       "      <td>Data type match requirement is not met. Expected data type: Integral, Expected match: 100.0%. Observed: Only 99.66679007774898% of data is Integral.</td>\n",
       "      <td>State_WY</td>\n",
       "    </tr>\n",
       "    <tr>\n",
       "      <th>58</th>\n",
       "      <td>data_type_check</td>\n",
       "      <td>Data type match requirement is not met. Expected data type: Integral, Expected match: 100.0%. Observed: Only 99.66679007774898% of data is Integral.</td>\n",
       "      <td>State_MN</td>\n",
       "    </tr>\n",
       "    <tr>\n",
       "      <th>59</th>\n",
       "      <td>data_type_check</td>\n",
       "      <td>Data type match requirement is not met. Expected data type: Integral, Expected match: 100.0%. Observed: Only 99.66679007774898% of data is Integral.</td>\n",
       "      <td>State_NV</td>\n",
       "    </tr>\n",
       "  </tbody>\n",
       "</table>\n",
       "</div>"
      ],
      "text/plain": [
       "   constraint_check_type  \\\n",
       "0   data_type_check        \n",
       "1   data_type_check        \n",
       "2   data_type_check        \n",
       "3   data_type_check        \n",
       "4   data_type_check        \n",
       "5   data_type_check        \n",
       "6   data_type_check        \n",
       "7   data_type_check        \n",
       "8   data_type_check        \n",
       "9   data_type_check        \n",
       "10  data_type_check        \n",
       "11  data_type_check        \n",
       "12  data_type_check        \n",
       "13  data_type_check        \n",
       "14  data_type_check        \n",
       "15  data_type_check        \n",
       "16  data_type_check        \n",
       "17  data_type_check        \n",
       "18  data_type_check        \n",
       "19  data_type_check        \n",
       "20  data_type_check        \n",
       "21  data_type_check        \n",
       "22  data_type_check        \n",
       "23  data_type_check        \n",
       "24  data_type_check        \n",
       "25  data_type_check        \n",
       "26  data_type_check        \n",
       "27  data_type_check        \n",
       "28  data_type_check        \n",
       "29  data_type_check        \n",
       "30  data_type_check        \n",
       "31  data_type_check        \n",
       "32  data_type_check        \n",
       "33  data_type_check        \n",
       "34  data_type_check        \n",
       "35  data_type_check        \n",
       "36  data_type_check        \n",
       "37  data_type_check        \n",
       "38  data_type_check        \n",
       "39  data_type_check        \n",
       "40  data_type_check        \n",
       "41  data_type_check        \n",
       "42  data_type_check        \n",
       "43  data_type_check        \n",
       "44  data_type_check        \n",
       "45  data_type_check        \n",
       "46  data_type_check        \n",
       "47  data_type_check        \n",
       "48  data_type_check        \n",
       "49  data_type_check        \n",
       "50  data_type_check        \n",
       "51  data_type_check        \n",
       "52  data_type_check        \n",
       "53  data_type_check        \n",
       "54  data_type_check        \n",
       "55  data_type_check        \n",
       "56  data_type_check        \n",
       "57  data_type_check        \n",
       "58  data_type_check        \n",
       "59  data_type_check        \n",
       "\n",
       "                                                                                                                                             description  \\\n",
       "0   Data type match requirement is not met. Expected data type: Integral, Expected match: 100.0%. Observed: Only 99.66679007774898% of data is Integral.   \n",
       "1   Data type match requirement is not met. Expected data type: Integral, Expected match: 100.0%. Observed: Only 99.66679007774898% of data is Integral.   \n",
       "2   Data type match requirement is not met. Expected data type: Integral, Expected match: 100.0%. Observed: Only 99.66679007774898% of data is Integral.   \n",
       "3   Data type match requirement is not met. Expected data type: Integral, Expected match: 100.0%. Observed: Only 99.66679007774898% of data is Integral.   \n",
       "4   Data type match requirement is not met. Expected data type: Integral, Expected match: 100.0%. Observed: Only 99.66679007774898% of data is Integral.   \n",
       "5   Data type match requirement is not met. Expected data type: Integral, Expected match: 100.0%. Observed: Only 99.66679007774898% of data is Integral.   \n",
       "6   Data type match requirement is not met. Expected data type: Integral, Expected match: 100.0%. Observed: Only 99.66679007774898% of data is Integral.   \n",
       "7   Data type match requirement is not met. Expected data type: Integral, Expected match: 100.0%. Observed: Only 99.66679007774898% of data is Integral.   \n",
       "8   Data type match requirement is not met. Expected data type: Integral, Expected match: 100.0%. Observed: Only 99.66679007774898% of data is Integral.   \n",
       "9   Data type match requirement is not met. Expected data type: Integral, Expected match: 100.0%. Observed: Only 99.66679007774898% of data is Integral.   \n",
       "10  Data type match requirement is not met. Expected data type: Integral, Expected match: 100.0%. Observed: Only 99.66679007774898% of data is Integral.   \n",
       "11  Data type match requirement is not met. Expected data type: Integral, Expected match: 100.0%. Observed: Only 99.66679007774898% of data is Integral.   \n",
       "12  Data type match requirement is not met. Expected data type: Integral, Expected match: 100.0%. Observed: Only 99.66679007774898% of data is Integral.   \n",
       "13  Data type match requirement is not met. Expected data type: Integral, Expected match: 100.0%. Observed: Only 99.66679007774898% of data is Integral.   \n",
       "14  Data type match requirement is not met. Expected data type: Integral, Expected match: 100.0%. Observed: Only 99.66679007774898% of data is Integral.   \n",
       "15  Data type match requirement is not met. Expected data type: Integral, Expected match: 100.0%. Observed: Only 99.66679007774898% of data is Integral.   \n",
       "16  Data type match requirement is not met. Expected data type: Integral, Expected match: 100.0%. Observed: Only 99.66679007774898% of data is Integral.   \n",
       "17  Data type match requirement is not met. Expected data type: Integral, Expected match: 100.0%. Observed: Only 99.66679007774898% of data is Integral.   \n",
       "18  Data type match requirement is not met. Expected data type: Integral, Expected match: 100.0%. Observed: Only 99.66679007774898% of data is Integral.   \n",
       "19  Data type match requirement is not met. Expected data type: Integral, Expected match: 100.0%. Observed: Only 99.66679007774898% of data is Integral.   \n",
       "20  Data type match requirement is not met. Expected data type: Integral, Expected match: 100.0%. Observed: Only 99.66679007774898% of data is Integral.   \n",
       "21  Data type match requirement is not met. Expected data type: Integral, Expected match: 100.0%. Observed: Only 99.66679007774898% of data is Integral.   \n",
       "22  Data type match requirement is not met. Expected data type: Integral, Expected match: 100.0%. Observed: Only 99.66679007774898% of data is Integral.   \n",
       "23  Data type match requirement is not met. Expected data type: Integral, Expected match: 100.0%. Observed: Only 99.66679007774898% of data is Integral.   \n",
       "24  Data type match requirement is not met. Expected data type: Integral, Expected match: 100.0%. Observed: Only 99.66679007774898% of data is Integral.   \n",
       "25  Data type match requirement is not met. Expected data type: Integral, Expected match: 100.0%. Observed: Only 99.66679007774898% of data is Integral.   \n",
       "26  Data type match requirement is not met. Expected data type: Integral, Expected match: 100.0%. Observed: Only 99.66679007774898% of data is Integral.   \n",
       "27  Data type match requirement is not met. Expected data type: Integral, Expected match: 100.0%. Observed: Only 99.66679007774898% of data is Integral.   \n",
       "28  Data type match requirement is not met. Expected data type: Integral, Expected match: 100.0%. Observed: Only 0.0% of data is Integral.                 \n",
       "29  Data type match requirement is not met. Expected data type: Integral, Expected match: 100.0%. Observed: Only 99.66679007774898% of data is Integral.   \n",
       "30  Data type match requirement is not met. Expected data type: Integral, Expected match: 100.0%. Observed: Only 99.66679007774898% of data is Integral.   \n",
       "31  Data type match requirement is not met. Expected data type: Integral, Expected match: 100.0%. Observed: Only 99.66679007774898% of data is Integral.   \n",
       "32  Data type match requirement is not met. Expected data type: Integral, Expected match: 100.0%. Observed: Only 99.66679007774898% of data is Integral.   \n",
       "33  Data type match requirement is not met. Expected data type: Integral, Expected match: 100.0%. Observed: Only 99.66679007774898% of data is Integral.   \n",
       "34  Data type match requirement is not met. Expected data type: Integral, Expected match: 100.0%. Observed: Only 99.66679007774898% of data is Integral.   \n",
       "35  Data type match requirement is not met. Expected data type: Integral, Expected match: 100.0%. Observed: Only 99.66679007774898% of data is Integral.   \n",
       "36  Data type match requirement is not met. Expected data type: Integral, Expected match: 100.0%. Observed: Only 99.66679007774898% of data is Integral.   \n",
       "37  Data type match requirement is not met. Expected data type: Integral, Expected match: 100.0%. Observed: Only 99.66679007774898% of data is Integral.   \n",
       "38  Data type match requirement is not met. Expected data type: Integral, Expected match: 100.0%. Observed: Only 99.66679007774898% of data is Integral.   \n",
       "39  Data type match requirement is not met. Expected data type: Integral, Expected match: 100.0%. Observed: Only 99.66679007774898% of data is Integral.   \n",
       "40  Data type match requirement is not met. Expected data type: Integral, Expected match: 100.0%. Observed: Only 99.66679007774898% of data is Integral.   \n",
       "41  Data type match requirement is not met. Expected data type: Integral, Expected match: 100.0%. Observed: Only 99.66679007774898% of data is Integral.   \n",
       "42  Data type match requirement is not met. Expected data type: Integral, Expected match: 100.0%. Observed: Only 99.66679007774898% of data is Integral.   \n",
       "43  Data type match requirement is not met. Expected data type: Integral, Expected match: 100.0%. Observed: Only 99.66679007774898% of data is Integral.   \n",
       "44  Data type match requirement is not met. Expected data type: Integral, Expected match: 100.0%. Observed: Only 99.66679007774898% of data is Integral.   \n",
       "45  Data type match requirement is not met. Expected data type: Integral, Expected match: 100.0%. Observed: Only 99.66679007774898% of data is Integral.   \n",
       "46  Data type match requirement is not met. Expected data type: Integral, Expected match: 100.0%. Observed: Only 99.66679007774898% of data is Integral.   \n",
       "47  Data type match requirement is not met. Expected data type: Integral, Expected match: 100.0%. Observed: Only 99.66679007774898% of data is Integral.   \n",
       "48  Data type match requirement is not met. Expected data type: Integral, Expected match: 100.0%. Observed: Only 99.66679007774898% of data is Integral.   \n",
       "49  Data type match requirement is not met. Expected data type: Integral, Expected match: 100.0%. Observed: Only 99.66679007774898% of data is Integral.   \n",
       "50  Data type match requirement is not met. Expected data type: Integral, Expected match: 100.0%. Observed: Only 99.66679007774898% of data is Integral.   \n",
       "51  Data type match requirement is not met. Expected data type: Integral, Expected match: 100.0%. Observed: Only 99.66679007774898% of data is Integral.   \n",
       "52  Data type match requirement is not met. Expected data type: Integral, Expected match: 100.0%. Observed: Only 99.66679007774898% of data is Integral.   \n",
       "53  Data type match requirement is not met. Expected data type: Integral, Expected match: 100.0%. Observed: Only 99.66679007774898% of data is Integral.   \n",
       "54  Data type match requirement is not met. Expected data type: Integral, Expected match: 100.0%. Observed: Only 99.66679007774898% of data is Integral.   \n",
       "55  Data type match requirement is not met. Expected data type: Integral, Expected match: 100.0%. Observed: Only 99.66679007774898% of data is Integral.   \n",
       "56  Data type match requirement is not met. Expected data type: Integral, Expected match: 100.0%. Observed: Only 99.66679007774898% of data is Integral.   \n",
       "57  Data type match requirement is not met. Expected data type: Integral, Expected match: 100.0%. Observed: Only 99.66679007774898% of data is Integral.   \n",
       "58  Data type match requirement is not met. Expected data type: Integral, Expected match: 100.0%. Observed: Only 99.66679007774898% of data is Integral.   \n",
       "59  Data type match requirement is not met. Expected data type: Integral, Expected match: 100.0%. Observed: Only 99.66679007774898% of data is Integral.   \n",
       "\n",
       "      feature_name  \n",
       "0   Int'l Plan_no   \n",
       "1   State_MA        \n",
       "2   State_KY        \n",
       "3   State_AR        \n",
       "4   VMail Plan_no   \n",
       "5   State_MI        \n",
       "6   State_SD        \n",
       "7   State_IA        \n",
       "8   State_OH        \n",
       "9   State_NH        \n",
       "10  State_VT        \n",
       "11  State_NJ        \n",
       "12  State_WA        \n",
       "13  State_AZ        \n",
       "14  State_KS        \n",
       "15  Area Code_510   \n",
       "16  State_MT        \n",
       "17  State_MD        \n",
       "18  State_GA        \n",
       "19  State_NY        \n",
       "20  VMail Message   \n",
       "21  State_MO        \n",
       "22  State_OR        \n",
       "23  State_FL        \n",
       "24  State_ND        \n",
       "25  State_UT        \n",
       "26  State_WV        \n",
       "27  Area Code_415   \n",
       "28  Churn           \n",
       "29  State_ME        \n",
       "30  State_NC        \n",
       "31  State_LA        \n",
       "32  State_IL        \n",
       "33  State_PA        \n",
       "34  State_TX        \n",
       "35  State_SC        \n",
       "36  Area Code_408   \n",
       "37  State_OK        \n",
       "38  State_CT        \n",
       "39  State_NE        \n",
       "40  State_NM        \n",
       "41  State_CO        \n",
       "42  State_CA        \n",
       "43  State_MS        \n",
       "44  State_WI        \n",
       "45  State_VA        \n",
       "46  State_DC        \n",
       "47  VMail Plan_yes  \n",
       "48  State_TN        \n",
       "49  State_AL        \n",
       "50  State_IN        \n",
       "51  State_AK        \n",
       "52  State_RI        \n",
       "53  Int'l Plan_yes  \n",
       "54  State_ID        \n",
       "55  State_DE        \n",
       "56  State_HI        \n",
       "57  State_WY        \n",
       "58  State_MN        \n",
       "59  State_NV        "
      ]
     },
     "execution_count": 123,
     "metadata": {},
     "output_type": "execute_result"
    }
   ],
   "source": [
    "violations = my_default_monitor.latest_monitoring_constraint_violations()\n",
    "pd.set_option('display.max_colwidth', -1)\n",
    "constraints_df = pd.io.json.json_normalize(violations.body_dict[\"violations\"])\n",
    "constraints_df.head(10)"
   ]
  },
  {
   "cell_type": "markdown",
   "metadata": {},
   "source": [
    "### Other commands\n",
    "We can also start and stop the monitoring schedules."
   ]
  },
  {
   "cell_type": "code",
   "execution_count": null,
   "metadata": {},
   "outputs": [],
   "source": [
    "#my_default_monitor.stop_monitoring_schedule()\n",
    "#my_default_monitor.start_monitoring_schedule()"
   ]
  },
  {
   "cell_type": "markdown",
   "metadata": {},
   "source": [
    "## Delete the resources\n",
    "\n",
    "You can keep your endpoint running to continue capturing data. If you do not plan to collect more data or use this endpoint further, you should delete the endpoint to avoid incurring additional charges. Note that deleting your endpoint does not delete the data that was captured during the model invocations. That data persists in Amazon S3 until you delete it yourself.\n",
    "\n",
    "But before that, you need to delete the schedule first."
   ]
  },
  {
   "cell_type": "code",
   "execution_count": null,
   "metadata": {},
   "outputs": [],
   "source": [
    "#my_default_monitor.delete_monitoring_schedule()\n",
    "#time.sleep(60) # actually wait for the deletion"
   ]
  },
  {
   "cell_type": "code",
   "execution_count": null,
   "metadata": {
    "scrolled": true
   },
   "outputs": [],
   "source": [
    "#predictor.delete_endpoint()"
   ]
  },
  {
   "cell_type": "code",
   "execution_count": null,
   "metadata": {},
   "outputs": [],
   "source": [
    "#predictor.delete_model()"
   ]
  }
 ],
 "metadata": {
  "anaconda-cloud": {},
  "kernelspec": {
   "display_name": "conda_python3",
   "language": "python",
   "name": "conda_python3"
  },
  "language_info": {
   "codemirror_mode": {
    "name": "ipython",
    "version": 3
   },
   "file_extension": ".py",
   "mimetype": "text/x-python",
   "name": "python",
   "nbconvert_exporter": "python",
   "pygments_lexer": "ipython3",
   "version": "3.6.5"
  },
  "notice": "Copyright 2017 Amazon.com, Inc. or its affiliates. All Rights Reserved.  Licensed under the Apache License, Version 2.0 (the \"License\"). You may not use this file except in compliance with the License. A copy of the License is located at http://aws.amazon.com/apache2.0/ or in the \"license\" file accompanying this file. This file is distributed on an \"AS IS\" BASIS, WITHOUT WARRANTIES OR CONDITIONS OF ANY KIND, either express or implied. See the License for the specific language governing permissions and limitations under the License."
 },
 "nbformat": 4,
 "nbformat_minor": 4
}
