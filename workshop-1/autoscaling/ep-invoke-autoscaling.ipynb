{
 "cells": [
  {
   "cell_type": "code",
   "execution_count": 34,
   "metadata": {},
   "outputs": [
    {
     "name": "stdout",
     "output_type": "stream",
     "text": [
      "{'ResponseMetadata': {'RequestId': '3992533a-7599-4823-a194-dc335b775a4b', 'HTTPStatusCode': 200, 'HTTPHeaders': {'x-amzn-requestid': '3992533a-7599-4823-a194-dc335b775a4b', 'x-amzn-invoked-production-variant': 'Initial', 'date': 'Sun, 29 Mar 2020 19:59:55 GMT', 'content-type': 'text/csv; charset=utf-8', 'content-length': '2'}, 'RetryAttempts': 0}, 'ContentType': 'text/csv; charset=utf-8', 'InvokedProductionVariant': 'Initial', 'Body': <botocore.response.StreamingBody object at 0x7f6d3d328160>}\n",
      "CPU times: user 192 ms, sys: 11.9 ms, total: 204 ms\n",
      "Wall time: 380 ms\n"
     ]
    }
   ],
   "source": [
    "%%time\n",
    "# endpoint invocation script\n",
    "# expects the file test_point.csv to be located in the same diretory\n",
    "\n",
    "#endpoint_name = 'XGBoostEP-2020-03-15-16-23-35'\n",
    "#endpoint_name = 'XGBoostEP-2020-03-15-20-37-40'\n",
    "endpoint_name = 'aparna-ee-1'\n",
    "\n",
    "import os\n",
    "import boto3\n",
    "import re\n",
    "import json\n",
    "from sagemaker import get_execution_role\n",
    "import sagemaker\n",
    "import time\n",
    "\n",
    "sess = sagemaker.Session()\n",
    "region = boto3.Session().region_name\n",
    "role = get_execution_role()\n",
    "bucket=sess.default_bucket()\n",
    "sm_client = boto3.client('sagemaker')\n",
    "runtime_client = boto3.client('runtime.sagemaker')\n",
    "\n",
    "file_name = 'test_point.csv' #customize to your test file, will be 'mnist.single.test' if use data above\n",
    "\n",
    "with open(file_name, 'r') as f:\n",
    "    payload = f.read().strip()\n",
    "\n",
    "response = runtime_client.invoke_endpoint(EndpointName=endpoint_name, \n",
    "                                   ContentType='text/csv', \n",
    "                                   Body=payload)\n",
    "result = response['Body'].read().decode('ascii')\n",
    "#print('Predicted Class Probabilities: {}.'.format(result))\n",
    "print(response)\n",
    "\n",
    "file_name = 'test_point.csv'\n",
    "with open(file_name, 'r') as f:\n",
    "    payload = f.read().strip()\n",
    "    "
   ]
  },
  {
   "cell_type": "markdown",
   "metadata": {},
   "source": [
    "### Let us scale up the endpoint by sending in the traffic well above 100 invocations per min"
   ]
  },
  {
   "cell_type": "code",
   "execution_count": 35,
   "metadata": {},
   "outputs": [
    {
     "name": "stdout",
     "output_type": "stream",
     "text": [
      "model: Initial, rtrn code: 200; 0 of 6000 invocations, elapsed time: 0 s, EP status: InService, instance cnt: 1\n",
      "model: Initial, rtrn code: 200; 300 of 6000 invocations, elapsed time: 41 s, EP status: InService, instance cnt: 1\n",
      "model: Initial, rtrn code: 200; 600 of 6000 invocations, elapsed time: 39 s, EP status: InService, instance cnt: 1\n",
      "model: Initial, rtrn code: 200; 900 of 6000 invocations, elapsed time: 38 s, EP status: InService, instance cnt: 1\n",
      "model: Initial, rtrn code: 200; 1200 of 6000 invocations, elapsed time: 39 s, EP status: InService, instance cnt: 1\n",
      "model: Initial, rtrn code: 200; 1500 of 6000 invocations, elapsed time: 39 s, EP status: InService, instance cnt: 1\n",
      "model: Initial, rtrn code: 200; 1800 of 6000 invocations, elapsed time: 38 s, EP status: InService, instance cnt: 1\n",
      "model: Initial, rtrn code: 200; 2100 of 6000 invocations, elapsed time: 38 s, EP status: InService, instance cnt: 1\n",
      "model: Initial, rtrn code: 200; 2400 of 6000 invocations, elapsed time: 39 s, EP status: InService, instance cnt: 1\n",
      "model: Initial, rtrn code: 200; 2700 of 6000 invocations, elapsed time: 39 s, EP status: Updating, instance cnt: 1\n",
      "model: Initial, rtrn code: 200; 3000 of 6000 invocations, elapsed time: 40 s, EP status: Updating, instance cnt: 1\n",
      "model: Initial, rtrn code: 200; 3300 of 6000 invocations, elapsed time: 39 s, EP status: Updating, instance cnt: 1\n",
      "model: Initial, rtrn code: 200; 3600 of 6000 invocations, elapsed time: 39 s, EP status: Updating, instance cnt: 1\n",
      "model: Initial, rtrn code: 200; 3900 of 6000 invocations, elapsed time: 38 s, EP status: Updating, instance cnt: 1\n",
      "model: Initial, rtrn code: 200; 4200 of 6000 invocations, elapsed time: 39 s, EP status: Updating, instance cnt: 1\n",
      "model: Initial, rtrn code: 200; 4500 of 6000 invocations, elapsed time: 39 s, EP status: Updating, instance cnt: 1\n",
      "model: Initial, rtrn code: 200; 4800 of 6000 invocations, elapsed time: 39 s, EP status: Updating, instance cnt: 1\n",
      "model: Initial, rtrn code: 200; 5100 of 6000 invocations, elapsed time: 39 s, EP status: Updating, instance cnt: 1\n",
      "model: Initial, rtrn code: 200; 5400 of 6000 invocations, elapsed time: 39 s, EP status: Updating, instance cnt: 2\n",
      "model: Initial, rtrn code: 200; 5700 of 6000 invocations, elapsed time: 39 s, EP status: InService, instance cnt: 3\n"
     ]
    }
   ],
   "source": [
    "N = 8000 #5000\n",
    "tic=time.time()\n",
    "for i in range(N):\n",
    "    response = runtime_client.invoke_endpoint(EndpointName=endpoint_name, ContentType='text/csv', Body=payload)\n",
    "    if i % (300) == 0:\n",
    "        invoked_model = response['ResponseMetadata']['HTTPHeaders']['x-amzn-invoked-production-variant']\n",
    "        invocation_code = response['ResponseMetadata']['HTTPStatusCode']\n",
    "        toc=time.time()\n",
    "        sm_client_resp = sm_client.describe_endpoint(EndpointName=endpoint_name)\n",
    "        status = sm_client_resp['EndpointStatus']\n",
    "        InstanceCount=sm_client_resp['ProductionVariants'][0]['CurrentInstanceCount']\n",
    "        print (\"model: {}, rtrn code: {}; {} of {} invocations, elapsed time: {:.0f} s, EP status: {}, instance cnt: {}\"\\\n",
    "               .format(invoked_model, invocation_code, i, N, toc-tic, status, InstanceCount))\n",
    "        tic = time.time()\n",
    "    time.sleep(0.1)"
   ]
  },
  {
   "cell_type": "markdown",
   "metadata": {},
   "source": [
    "### now let us scale down the endpoint by sending in the traffic well below 100 invocations per min\n",
    "Please, note that if you send no traffic at all, the endpoint will not scale down."
   ]
  },
  {
   "cell_type": "code",
   "execution_count": 38,
   "metadata": {},
   "outputs": [
    {
     "name": "stdout",
     "output_type": "stream",
     "text": [
      "model: Initial, rtrn code: 200; 0 of 1200 invocations, elapsed time: 0 s, EP status: InService, instance count: 3\n",
      "model: Initial, rtrn code: 200; 30 of 1200 invocations, elapsed time: 61 s, EP status: InService, instance count: 3\n",
      "model: Initial, rtrn code: 200; 60 of 1200 invocations, elapsed time: 61 s, EP status: Updating, instance count: 3\n",
      "model: Initial, rtrn code: 200; 90 of 1200 invocations, elapsed time: 61 s, EP status: Updating, instance count: 2\n",
      "model: Initial, rtrn code: 200; 120 of 1200 invocations, elapsed time: 61 s, EP status: Updating, instance count: 2\n",
      "model: Initial, rtrn code: 200; 150 of 1200 invocations, elapsed time: 61 s, EP status: Updating, instance count: 2\n",
      "model: Initial, rtrn code: 200; 180 of 1200 invocations, elapsed time: 61 s, EP status: InService, instance count: 2\n",
      "model: Initial, rtrn code: 200; 210 of 1200 invocations, elapsed time: 61 s, EP status: InService, instance count: 2\n",
      "model: Initial, rtrn code: 200; 240 of 1200 invocations, elapsed time: 61 s, EP status: InService, instance count: 2\n",
      "model: Initial, rtrn code: 200; 270 of 1200 invocations, elapsed time: 61 s, EP status: InService, instance count: 2\n",
      "model: Initial, rtrn code: 200; 300 of 1200 invocations, elapsed time: 61 s, EP status: InService, instance count: 2\n",
      "model: Initial, rtrn code: 200; 330 of 1200 invocations, elapsed time: 61 s, EP status: InService, instance count: 2\n",
      "model: Initial, rtrn code: 200; 360 of 1200 invocations, elapsed time: 61 s, EP status: InService, instance count: 2\n",
      "model: Initial, rtrn code: 200; 390 of 1200 invocations, elapsed time: 61 s, EP status: InService, instance count: 2\n",
      "model: Initial, rtrn code: 200; 420 of 1200 invocations, elapsed time: 61 s, EP status: InService, instance count: 2\n",
      "model: Initial, rtrn code: 200; 450 of 1200 invocations, elapsed time: 61 s, EP status: InService, instance count: 2\n",
      "model: Initial, rtrn code: 200; 480 of 1200 invocations, elapsed time: 61 s, EP status: InService, instance count: 2\n",
      "model: Initial, rtrn code: 200; 510 of 1200 invocations, elapsed time: 61 s, EP status: InService, instance count: 2\n",
      "model: Initial, rtrn code: 200; 540 of 1200 invocations, elapsed time: 61 s, EP status: Updating, instance count: 1\n",
      "model: Initial, rtrn code: 200; 570 of 1200 invocations, elapsed time: 61 s, EP status: Updating, instance count: 1\n",
      "model: Initial, rtrn code: 200; 600 of 1200 invocations, elapsed time: 61 s, EP status: Updating, instance count: 1\n",
      "model: Initial, rtrn code: 200; 630 of 1200 invocations, elapsed time: 61 s, EP status: Updating, instance count: 1\n",
      "model: Initial, rtrn code: 200; 660 of 1200 invocations, elapsed time: 61 s, EP status: InService, instance count: 1\n"
     ]
    },
    {
     "ename": "KeyboardInterrupt",
     "evalue": "",
     "output_type": "error",
     "traceback": [
      "\u001b[0;31m---------------------------------------------------------------------------\u001b[0m",
      "\u001b[0;31mKeyboardInterrupt\u001b[0m                         Traceback (most recent call last)",
      "\u001b[0;32m<ipython-input-38-c6e25c1aea88>\u001b[0m in \u001b[0;36m<module>\u001b[0;34m()\u001b[0m\n\u001b[1;32m     12\u001b[0m         \u001b[0mprint\u001b[0m \u001b[0;34m(\u001b[0m\u001b[0;34m\"model: {}, rtrn code: {}; {} of {} invocations, elapsed time: {:.0f} s, EP status: {}, instance count: {}\"\u001b[0m               \u001b[0;34m.\u001b[0m\u001b[0mformat\u001b[0m\u001b[0;34m(\u001b[0m\u001b[0minvoked_model\u001b[0m\u001b[0;34m,\u001b[0m \u001b[0minvocation_code\u001b[0m\u001b[0;34m,\u001b[0m \u001b[0mi\u001b[0m\u001b[0;34m,\u001b[0m \u001b[0mN\u001b[0m\u001b[0;34m,\u001b[0m \u001b[0mtoc\u001b[0m\u001b[0;34m-\u001b[0m\u001b[0mtic\u001b[0m\u001b[0;34m,\u001b[0m \u001b[0mstatus\u001b[0m\u001b[0;34m,\u001b[0m \u001b[0mInstanceCount\u001b[0m\u001b[0;34m)\u001b[0m\u001b[0;34m)\u001b[0m\u001b[0;34m\u001b[0m\u001b[0m\n\u001b[1;32m     13\u001b[0m         \u001b[0mtic\u001b[0m \u001b[0;34m=\u001b[0m \u001b[0mtime\u001b[0m\u001b[0;34m.\u001b[0m\u001b[0mtime\u001b[0m\u001b[0;34m(\u001b[0m\u001b[0;34m)\u001b[0m\u001b[0;34m\u001b[0m\u001b[0m\n\u001b[0;32m---> 14\u001b[0;31m     \u001b[0mtime\u001b[0m\u001b[0;34m.\u001b[0m\u001b[0msleep\u001b[0m\u001b[0;34m(\u001b[0m\u001b[0;36m2\u001b[0m\u001b[0;34m)\u001b[0m\u001b[0;34m\u001b[0m\u001b[0m\n\u001b[0m",
      "\u001b[0;31mKeyboardInterrupt\u001b[0m: "
     ]
    }
   ],
   "source": [
    "N = 1200 #5000\n",
    "tic=time.time()\n",
    "for i in range(N):\n",
    "    response = runtime_client.invoke_endpoint(EndpointName=endpoint_name, ContentType='text/csv', Body=payload)\n",
    "    if i % (30) == 0:\n",
    "        invoked_model = response['ResponseMetadata']['HTTPHeaders']['x-amzn-invoked-production-variant']\n",
    "        invocation_code = response['ResponseMetadata']['HTTPStatusCode']\n",
    "        toc=time.time()\n",
    "        sm_client_resp = sm_client.describe_endpoint(EndpointName=endpoint_name)\n",
    "        status = sm_client_resp['EndpointStatus']\n",
    "        InstanceCount=sm_client_resp['ProductionVariants'][0]['CurrentInstanceCount']\n",
    "        print (\"model: {}, rtrn code: {}; {} of {} invocations, elapsed time: {:.0f} s, EP status: {}, instance count: {}\"\\\n",
    "               .format(invoked_model, invocation_code, i, N, toc-tic, status, InstanceCount))\n",
    "        tic = time.time()\n",
    "    time.sleep(2)"
   ]
  },
  {
   "cell_type": "code",
   "execution_count": 37,
   "metadata": {},
   "outputs": [
    {
     "name": "stdout",
     "output_type": "stream",
     "text": [
      "started model invocation for 200 iterations\n"
     ]
    }
   ],
   "source": [
    "N = 200 #5000\n",
    "print(\"started model invocation for {} iterations\". format(N))\n",
    "for i in range(N):\n",
    "    response = runtime_client.invoke_endpoint(EndpointName=endpoint_name, ContentType='text/csv', Body=payload)\n",
    "    invoked_model = response['ResponseMetadata']['HTTPHeaders']['x-amzn-invoked-production-variant']\n",
    "    invocation_code = response['ResponseMetadata']['HTTPStatusCode']\n",
    "    if (invocation_code != 200):\n",
    "        print (\"error invoking model {} \".format(invocation_code))"
   ]
  },
  {
   "cell_type": "code",
   "execution_count": null,
   "metadata": {},
   "outputs": [],
   "source": []
  }
 ],
 "metadata": {
  "kernelspec": {
   "display_name": "conda_python3",
   "language": "python",
   "name": "conda_python3"
  },
  "language_info": {
   "codemirror_mode": {
    "name": "ipython",
    "version": 3
   },
   "file_extension": ".py",
   "mimetype": "text/x-python",
   "name": "python",
   "nbconvert_exporter": "python",
   "pygments_lexer": "ipython3",
   "version": "3.6.5"
  }
 },
 "nbformat": 4,
 "nbformat_minor": 2
}
