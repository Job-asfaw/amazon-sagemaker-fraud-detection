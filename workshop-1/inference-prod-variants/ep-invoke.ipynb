{
 "cells": [
  {
   "cell_type": "code",
   "execution_count": 1,
   "metadata": {},
   "outputs": [
    {
     "name": "stdout",
     "output_type": "stream",
     "text": [
      "{'ResponseMetadata': {'RequestId': '03c124b4-569f-438d-96d7-743dd8c212b1', 'HTTPStatusCode': 200, 'HTTPHeaders': {'x-amzn-requestid': '03c124b4-569f-438d-96d7-743dd8c212b1', 'x-amzn-invoked-production-variant': 'model-Blue', 'date': 'Wed, 18 Mar 2020 20:26:23 GMT', 'content-type': 'text/csv; charset=utf-8', 'content-length': '2'}, 'RetryAttempts': 0}, 'ContentType': 'text/csv; charset=utf-8', 'InvokedProductionVariant': 'model-Blue', 'Body': <botocore.response.StreamingBody object at 0x7f83014a7a90>}\n",
      "CPU times: user 960 ms, sys: 95.2 ms, total: 1.06 s\n",
      "Wall time: 1.8 s\n"
     ]
    }
   ],
   "source": [
    "%%time\n",
    "# endpoint invocation script\n",
    "# expects the file test_point.csv to be located in the same diretory\n",
    "\n",
    "#endpoint_name = 'XGBoostEP-2020-03-15-16-23-35'\n",
    "#endpoint_name = 'XGBoostEP-2020-03-15-20-37-40'\n",
    "endpoint_name = 'XGBoostEP-2020-03-18-20-15-31'\n",
    "\n",
    "import os\n",
    "import boto3\n",
    "import re\n",
    "import json\n",
    "from sagemaker import get_execution_role\n",
    "import sagemaker\n",
    "import time\n",
    "\n",
    "sess = sagemaker.Session()\n",
    "region = boto3.Session().region_name\n",
    "role = get_execution_role()\n",
    "bucket=sess.default_bucket()\n",
    "\n",
    "runtime_client = boto3.client('runtime.sagemaker')\n",
    "\n",
    "file_name = 'test_point.csv' #customize to your test file, will be 'mnist.single.test' if use data above\n",
    "\n",
    "with open(file_name, 'r') as f:\n",
    "    payload = f.read().strip()\n",
    "\n",
    "response = runtime_client.invoke_endpoint(EndpointName=endpoint_name, \n",
    "                                   ContentType='text/csv', \n",
    "                                   Body=payload)\n",
    "result = response['Body'].read().decode('ascii')\n",
    "#print('Predicted Class Probabilities: {}.'.format(result))\n",
    "print(response)\n",
    "\n",
    "file_name = 'test_point.csv'\n",
    "with open(file_name, 'r') as f:\n",
    "    payload = f.read().strip()\n",
    "    "
   ]
  },
  {
   "cell_type": "code",
   "execution_count": null,
   "metadata": {},
   "outputs": [],
   "source": [
    "N = 20000 #5000\n",
    "\n",
    "for i in range(N):\n",
    "    response = runtime_client.invoke_endpoint(EndpointName=endpoint_name, ContentType='text/csv', Body=payload)\n",
    "    if i % (N/100) == 0:\n",
    "        invoked_model = response['ResponseMetadata']['HTTPHeaders']['x-amzn-invoked-production-variant']\n",
    "        invocation_code = response['ResponseMetadata']['HTTPStatusCode']\n",
    "        print (\"target model: {}, return code {}; {} of {} invocations\".format(invoked_model, invocation_code, i, N))\n",
    "    #time.sleep(0.1)"
   ]
  },
  {
   "cell_type": "code",
   "execution_count": null,
   "metadata": {},
   "outputs": [],
   "source": [
    "N = 200 #5000\n",
    "print(\"started model invocation for {} iterations\". format(N))\n",
    "for i in range(N):\n",
    "    response = runtime_client.invoke_endpoint(EndpointName=endpoint_name, ContentType='text/csv', Body=payload)\n",
    "    invoked_model = response['ResponseMetadata']['HTTPHeaders']['x-amzn-invoked-production-variant']\n",
    "    invocation_code = response['ResponseMetadata']['HTTPStatusCode']\n",
    "    if (invocation_code != 200):\n",
    "        print (\"error invoking model {} \".format(invocation_code))"
   ]
  },
  {
   "cell_type": "code",
   "execution_count": null,
   "metadata": {},
   "outputs": [],
   "source": []
  }
 ],
 "metadata": {
  "kernelspec": {
   "display_name": "conda_python3",
   "language": "python",
   "name": "conda_python3"
  },
  "language_info": {
   "codemirror_mode": {
    "name": "ipython",
    "version": 3
   },
   "file_extension": ".py",
   "mimetype": "text/x-python",
   "name": "python",
   "nbconvert_exporter": "python",
   "pygments_lexer": "ipython3",
   "version": "3.6.5"
  }
 },
 "nbformat": 4,
 "nbformat_minor": 2
}
